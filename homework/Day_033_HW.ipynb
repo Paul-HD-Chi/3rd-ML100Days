{
 "cells": [
  {
   "cell_type": "markdown",
   "metadata": {},
   "source": [
    "## 練習時間"
   ]
  },
  {
   "cell_type": "markdown",
   "metadata": {},
   "source": [
    "請觀看李宏毅教授以神奇寶貝進化 CP 值預測的範例，解說何謂機器學習與過擬合。並回答以下問題"
   ]
  },
  {
   "cell_type": "markdown",
   "metadata": {},
   "source": [
    "[youtube](https://www.youtube.com/watch?v=fegAeph9UaA)"
   ]
  },
  {
   "cell_type": "markdown",
   "metadata": {},
   "source": [
    "### 1. 模型的泛化能力 (generalization) 是指什麼？   \n",
    "Ans.: 模型的泛化能力指的是機器學習的演算法在不同訓練集裡所得到的 average error 與在測試集裡得到的 average error 並沒有太大差異，也就是這演篹法可以很好的適應和精準預測從未出現過的測試資料，我們說這演算法有很好的泛化能力。  \n",
    "  \n",
    "  \n",
    "### 2. 分類問題與回歸問題分別可用的目標函數有哪些？  \n",
    "Ans.:  \n",
    "分類問提常用的目標函數有：  \n",
    "1. 0-1損失函數  \n",
    "2. 交叉熵損失函數（Logistic迴歸）  \n",
    "3. 交叉熵損失函數（Softmax激活）  \n",
    "\n",
    "  \n",
    "回歸問題常用的目標函數有：  \n",
    "1. 平均絕對誤差 - L1損失函數  \n",
    "2. 均方誤差 - L2損失函數  \n",
    "3. Huber損失 - 平滑平均絕對誤差  \n",
    "4. Log-Cosh 損失  \n",
    "5. 理解分位數損失函數  \n",
    "  \n",
    "https://buzzorange.com/techorange/2018/06/22/computer-learning-5-tips/  \n",
    "  \n",
    "https://www.twblogs.net/a/5c188f10bd9eee5e41847a50  \n"
   ]
  }
 ],
 "metadata": {
  "kernelspec": {
   "display_name": "Python 3",
   "language": "python",
   "name": "python3"
  },
  "language_info": {
   "codemirror_mode": {
    "name": "ipython",
    "version": 3
   },
   "file_extension": ".py",
   "mimetype": "text/x-python",
   "name": "python",
   "nbconvert_exporter": "python",
   "pygments_lexer": "ipython3",
   "version": "3.7.3"
  }
 },
 "nbformat": 4,
 "nbformat_minor": 2
}
