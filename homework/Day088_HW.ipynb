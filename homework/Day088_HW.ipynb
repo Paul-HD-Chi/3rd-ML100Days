{
 "cells": [
  {
   "cell_type": "markdown",
   "metadata": {},
   "source": [
    "## Work\n",
    "1. 請嘗試寫一個 callback 用來記錄各類別在訓練過程中，對驗證集的 True Positive 與 True Negative"
   ]
  },
  {
   "cell_type": "code",
   "execution_count": 1,
   "metadata": {},
   "outputs": [
    {
     "name": "stderr",
     "output_type": "stream",
     "text": [
      "Using TensorFlow backend.\n"
     ]
    }
   ],
   "source": [
    "import os\n",
    "import keras\n",
    "import numpy as np\n",
    "\n",
    "# Disable GPU\n",
    "os.environ[\"CUDA_VISIBLE_DEVICES\"] = \"None\""
   ]
  },
  {
   "cell_type": "code",
   "execution_count": 2,
   "metadata": {},
   "outputs": [],
   "source": [
    "train, test = keras.datasets.cifar10.load_data()"
   ]
  },
  {
   "cell_type": "code",
   "execution_count": 3,
   "metadata": {},
   "outputs": [],
   "source": [
    "## 資料前處理\n",
    "def preproc_x(x, flatten=True):\n",
    "    x = x / 255.\n",
    "    if flatten:\n",
    "        x = x.reshape((len(x), -1))\n",
    "    return x\n",
    "\n",
    "def preproc_y(y, num_classes=10):\n",
    "    if y.shape[-1] == 1:\n",
    "        y = keras.utils.to_categorical(y, num_classes)\n",
    "    return y    "
   ]
  },
  {
   "cell_type": "code",
   "execution_count": 4,
   "metadata": {},
   "outputs": [],
   "source": [
    "x_train, y_train = train\n",
    "x_test, y_test = test\n",
    "\n",
    "# Preproc the inputs\n",
    "x_train = preproc_x(x_train)\n",
    "x_test = preproc_x(x_test)\n",
    "\n",
    "# Preprc the outputs\n",
    "y_train = preproc_y(y_train)\n",
    "y_test = preproc_y(y_test)"
   ]
  },
  {
   "cell_type": "code",
   "execution_count": 5,
   "metadata": {},
   "outputs": [],
   "source": [
    "\"\"\"Code Here\n",
    "建立你的神經網路\n",
    "\"\"\"\n",
    "\n",
    "from keras.layers import BatchNormalization\n",
    "\n",
    "def build_mlp(input_shape, output_units=10, num_neurons=[256, 256, 256]):\n",
    "    input_layer = keras.layers.Input(input_shape)\n",
    "    \n",
    "    for i, n_units in enumerate(num_neurons):\n",
    "        if i == 0:\n",
    "            x = keras.layers.Dense(units=n_units, \n",
    "                                   activation=\"relu\", \n",
    "                                   name=\"hidden_layer\"+str(i+1))(input_layer)\n",
    "            x = BatchNormalization()(x)\n",
    "        else:\n",
    "            x = keras.layers.Dense(units=n_units, \n",
    "                                   activation=\"relu\", \n",
    "                                   name=\"hidden_layer\"+str(i+1))(x)\n",
    "            x = BatchNormalization()(x)\n",
    "    \n",
    "    out = keras.layers.Dense(units=output_units, activation=\"softmax\", name=\"output\")(x)\n",
    "    \n",
    "    model = keras.models.Model(inputs=[input_layer], outputs=[out])\n",
    "    return model"
   ]
  },
  {
   "cell_type": "code",
   "execution_count": 6,
   "metadata": {},
   "outputs": [],
   "source": [
    "## 超參數設定\n",
    "LEARNING_RATE = 1e-3\n",
    "EPOCHS = 50\n",
    "BATCH_SIZE = 1024\n",
    "MOMENTUM = 0.95"
   ]
  },
  {
   "cell_type": "code",
   "execution_count": 7,
   "metadata": {},
   "outputs": [],
   "source": [
    "# 載入 Callbacks\n",
    "from keras.callbacks import Callback\n",
    "\n",
    "\"\"\"Code Here\n",
    "撰寫一個紀錄 ture positive 與 true negative 數量的 callbacks    \n",
    "\"\"\"\n",
    "# Record_fp_tp\n",
    "class Record_tp_tn(Callback):\n",
    "\n",
    "    def on_train_begin(self, epoch, logs = {}):\n",
    "        logs = logs or {}\n",
    "        \n",
    "        # True Positive, True Negative, False Positive, False Negative of validation set\n",
    "        record_items = [\"val_tp\", \"val_tn\", \"val_fp\", \"val_fn\"]\n",
    "        for i in record_items:\n",
    "            if i not in self.params['metrics']:\n",
    "                self.params['metrics'].append(i)\n",
    "    \n",
    "    def on_epoch_end(self, epoch, logs = {}, thres=0.5):\n",
    "        logs = logs or {}\n",
    "        \n",
    "        # Define y_true, y_pred\n",
    "        y_true = self.validation_data[1].argmax(axis = 1)\n",
    "        y_pred = self.model.predict(self.validation_data[0])\n",
    "        y_pred = (y_pred[:, 1] >= thres) * 1\n",
    "        \n",
    "        # Calculate True Positive, True Negative\n",
    "        logs[\"val_tp\"] = np.sum(np.logical_and(y_pred == 1, y_true == 1))\n",
    "        logs[\"val_tn\"] = np.sum(np.logical_and(y_pred == 0, y_true == 0))\n",
    "        logs[\"val_fp\"] = np.sum(np.logical_and(y_pred == 1, y_true == 0))\n",
    "        logs[\"val_fn\"] = np.sum(np.logical_and(y_pred == 0, y_true == 1))\n",
    "\n",
    "        \n",
    "rec_tptn = Record_tp_tn()"
   ]
  },
  {
   "cell_type": "code",
   "execution_count": 8,
   "metadata": {
    "scrolled": false
   },
   "outputs": [
    {
     "name": "stdout",
     "output_type": "stream",
     "text": [
      "Model: \"model_1\"\n",
      "_________________________________________________________________\n",
      "Layer (type)                 Output Shape              Param #   \n",
      "=================================================================\n",
      "input_1 (InputLayer)         (None, 3072)              0         \n",
      "_________________________________________________________________\n",
      "hidden_layer1 (Dense)        (None, 256)               786688    \n",
      "_________________________________________________________________\n",
      "batch_normalization_1 (Batch (None, 256)               1024      \n",
      "_________________________________________________________________\n",
      "hidden_layer2 (Dense)        (None, 256)               65792     \n",
      "_________________________________________________________________\n",
      "batch_normalization_2 (Batch (None, 256)               1024      \n",
      "_________________________________________________________________\n",
      "hidden_layer3 (Dense)        (None, 256)               65792     \n",
      "_________________________________________________________________\n",
      "batch_normalization_3 (Batch (None, 256)               1024      \n",
      "_________________________________________________________________\n",
      "output (Dense)               (None, 10)                2570      \n",
      "=================================================================\n",
      "Total params: 923,914\n",
      "Trainable params: 922,378\n",
      "Non-trainable params: 1,536\n",
      "_________________________________________________________________\n",
      "Train on 50000 samples, validate on 10000 samples\n",
      "Epoch 1/50\n",
      "50000/50000 [==============================] - 6s 123us/step - loss: 2.2258 - accuracy: 0.2734 - val_loss: 2.1386 - val_accuracy: 0.2066\n",
      "Epoch 2/50\n",
      "50000/50000 [==============================] - 6s 118us/step - loss: 1.7502 - accuracy: 0.3911 - val_loss: 1.9973 - val_accuracy: 0.2777\n",
      "Epoch 3/50\n",
      "50000/50000 [==============================] - 6s 120us/step - loss: 1.6235 - accuracy: 0.4325 - val_loss: 1.8405 - val_accuracy: 0.3666\n",
      "Epoch 4/50\n",
      "50000/50000 [==============================] - 5s 108us/step - loss: 1.5531 - accuracy: 0.4548 - val_loss: 1.7111 - val_accuracy: 0.4155\n",
      "Epoch 5/50\n",
      "50000/50000 [==============================] - 5s 109us/step - loss: 1.5009 - accuracy: 0.4753 - val_loss: 1.6329 - val_accuracy: 0.4298\n",
      "Epoch 6/50\n",
      "50000/50000 [==============================] - 5s 104us/step - loss: 1.4584 - accuracy: 0.4919 - val_loss: 1.5740 - val_accuracy: 0.4480\n",
      "Epoch 7/50\n",
      "50000/50000 [==============================] - 5s 109us/step - loss: 1.4227 - accuracy: 0.5030 - val_loss: 1.5485 - val_accuracy: 0.4557\n",
      "Epoch 8/50\n",
      "50000/50000 [==============================] - 5s 106us/step - loss: 1.3908 - accuracy: 0.5154 - val_loss: 1.5215 - val_accuracy: 0.4575\n",
      "Epoch 9/50\n",
      "50000/50000 [==============================] - 5s 106us/step - loss: 1.3636 - accuracy: 0.5248 - val_loss: 1.5120 - val_accuracy: 0.4652\n",
      "Epoch 10/50\n",
      "50000/50000 [==============================] - 5s 105us/step - loss: 1.3378 - accuracy: 0.5327 - val_loss: 1.4963 - val_accuracy: 0.4719\n",
      "Epoch 11/50\n",
      "50000/50000 [==============================] - 5s 107us/step - loss: 1.3115 - accuracy: 0.5430 - val_loss: 1.4882 - val_accuracy: 0.4711\n",
      "Epoch 12/50\n",
      "50000/50000 [==============================] - 5s 108us/step - loss: 1.2878 - accuracy: 0.5513 - val_loss: 1.4802 - val_accuracy: 0.4766\n",
      "Epoch 13/50\n",
      "50000/50000 [==============================] - 5s 107us/step - loss: 1.2656 - accuracy: 0.5600 - val_loss: 1.4819 - val_accuracy: 0.4776\n",
      "Epoch 14/50\n",
      "50000/50000 [==============================] - 5s 108us/step - loss: 1.2455 - accuracy: 0.5686 - val_loss: 1.4653 - val_accuracy: 0.4821\n",
      "Epoch 15/50\n",
      "50000/50000 [==============================] - 5s 109us/step - loss: 1.2246 - accuracy: 0.5744 - val_loss: 1.4572 - val_accuracy: 0.4867\n",
      "Epoch 16/50\n",
      "50000/50000 [==============================] - 6s 111us/step - loss: 1.2044 - accuracy: 0.5819 - val_loss: 1.4552 - val_accuracy: 0.4854\n",
      "Epoch 17/50\n",
      "50000/50000 [==============================] - 6s 113us/step - loss: 1.1854 - accuracy: 0.5901 - val_loss: 1.4531 - val_accuracy: 0.4913\n",
      "Epoch 18/50\n",
      "50000/50000 [==============================] - 6s 110us/step - loss: 1.1662 - accuracy: 0.5968 - val_loss: 1.4467 - val_accuracy: 0.4883\n",
      "Epoch 19/50\n",
      "50000/50000 [==============================] - 6s 112us/step - loss: 1.1487 - accuracy: 0.6023 - val_loss: 1.4491 - val_accuracy: 0.4925\n",
      "Epoch 20/50\n",
      "50000/50000 [==============================] - 6s 124us/step - loss: 1.1318 - accuracy: 0.6109 - val_loss: 1.4688 - val_accuracy: 0.4849\n",
      "Epoch 21/50\n",
      "50000/50000 [==============================] - 6s 112us/step - loss: 1.1122 - accuracy: 0.6176 - val_loss: 1.4465 - val_accuracy: 0.4925\n",
      "Epoch 22/50\n",
      "50000/50000 [==============================] - 5s 109us/step - loss: 1.0948 - accuracy: 0.6251 - val_loss: 1.4412 - val_accuracy: 0.4949\n",
      "Epoch 23/50\n",
      "50000/50000 [==============================] - 6s 114us/step - loss: 1.0794 - accuracy: 0.6302 - val_loss: 1.4411 - val_accuracy: 0.4924\n",
      "Epoch 24/50\n",
      "50000/50000 [==============================] - 5s 106us/step - loss: 1.0624 - accuracy: 0.6378 - val_loss: 1.4424 - val_accuracy: 0.4973\n",
      "Epoch 25/50\n",
      "50000/50000 [==============================] - 5s 107us/step - loss: 1.0453 - accuracy: 0.6426 - val_loss: 1.4413 - val_accuracy: 0.4965\n",
      "Epoch 26/50\n",
      "50000/50000 [==============================] - 5s 107us/step - loss: 1.0291 - accuracy: 0.6492 - val_loss: 1.4418 - val_accuracy: 0.4959\n",
      "Epoch 27/50\n",
      "50000/50000 [==============================] - 5s 106us/step - loss: 1.0131 - accuracy: 0.6544 - val_loss: 1.4388 - val_accuracy: 0.4995\n",
      "Epoch 28/50\n",
      "50000/50000 [==============================] - 5s 106us/step - loss: 0.9977 - accuracy: 0.6630 - val_loss: 1.4491 - val_accuracy: 0.4951\n",
      "Epoch 29/50\n",
      "50000/50000 [==============================] - 5s 108us/step - loss: 0.9808 - accuracy: 0.6684 - val_loss: 1.4380 - val_accuracy: 0.5045\n",
      "Epoch 30/50\n",
      "50000/50000 [==============================] - 5s 106us/step - loss: 0.9657 - accuracy: 0.6746 - val_loss: 1.4577 - val_accuracy: 0.4988\n",
      "Epoch 31/50\n",
      "50000/50000 [==============================] - 5s 107us/step - loss: 0.9503 - accuracy: 0.6802 - val_loss: 1.4474 - val_accuracy: 0.5001\n",
      "Epoch 32/50\n",
      "50000/50000 [==============================] - 5s 108us/step - loss: 0.9353 - accuracy: 0.6870 - val_loss: 1.4424 - val_accuracy: 0.5015\n",
      "Epoch 33/50\n",
      "50000/50000 [==============================] - 5s 108us/step - loss: 0.9193 - accuracy: 0.6931 - val_loss: 1.4620 - val_accuracy: 0.4995\n",
      "Epoch 34/50\n",
      "50000/50000 [==============================] - 5s 107us/step - loss: 0.9046 - accuracy: 0.6997 - val_loss: 1.4636 - val_accuracy: 0.4940\n",
      "Epoch 35/50\n",
      "50000/50000 [==============================] - 5s 109us/step - loss: 0.8875 - accuracy: 0.7037 - val_loss: 1.4735 - val_accuracy: 0.4956\n",
      "Epoch 36/50\n",
      "50000/50000 [==============================] - 5s 108us/step - loss: 0.8731 - accuracy: 0.7119 - val_loss: 1.4655 - val_accuracy: 0.4976\n",
      "Epoch 37/50\n",
      "50000/50000 [==============================] - 5s 106us/step - loss: 0.8587 - accuracy: 0.7155 - val_loss: 1.4622 - val_accuracy: 0.5052\n",
      "Epoch 38/50\n",
      "50000/50000 [==============================] - 5s 106us/step - loss: 0.8432 - accuracy: 0.7214 - val_loss: 1.4655 - val_accuracy: 0.5007\n",
      "Epoch 39/50\n",
      "50000/50000 [==============================] - 5s 106us/step - loss: 0.8289 - accuracy: 0.7282 - val_loss: 1.4768 - val_accuracy: 0.5013\n",
      "Epoch 40/50\n",
      "50000/50000 [==============================] - 5s 108us/step - loss: 0.8142 - accuracy: 0.7347 - val_loss: 1.4824 - val_accuracy: 0.4967\n",
      "Epoch 41/50\n",
      "50000/50000 [==============================] - 5s 106us/step - loss: 0.7985 - accuracy: 0.7394 - val_loss: 1.4857 - val_accuracy: 0.5014\n",
      "Epoch 42/50\n",
      "50000/50000 [==============================] - 5s 106us/step - loss: 0.7842 - accuracy: 0.7465 - val_loss: 1.4882 - val_accuracy: 0.5019\n",
      "Epoch 43/50\n",
      "50000/50000 [==============================] - 5s 106us/step - loss: 0.7703 - accuracy: 0.7514 - val_loss: 1.4981 - val_accuracy: 0.5028\n",
      "Epoch 44/50\n",
      "50000/50000 [==============================] - 5s 107us/step - loss: 0.7561 - accuracy: 0.7564 - val_loss: 1.5012 - val_accuracy: 0.5018\n",
      "Epoch 45/50\n",
      "50000/50000 [==============================] - 5s 106us/step - loss: 0.7411 - accuracy: 0.7640 - val_loss: 1.5314 - val_accuracy: 0.4979\n",
      "Epoch 46/50\n"
     ]
    },
    {
     "name": "stdout",
     "output_type": "stream",
     "text": [
      "50000/50000 [==============================] - 5s 105us/step - loss: 0.7284 - accuracy: 0.7675 - val_loss: 1.5158 - val_accuracy: 0.5039\n",
      "Epoch 47/50\n",
      "50000/50000 [==============================] - 5s 105us/step - loss: 0.7133 - accuracy: 0.7738 - val_loss: 1.5130 - val_accuracy: 0.5038\n",
      "Epoch 48/50\n",
      "50000/50000 [==============================] - 5s 106us/step - loss: 0.6995 - accuracy: 0.7791 - val_loss: 1.5228 - val_accuracy: 0.5008\n",
      "Epoch 49/50\n",
      "50000/50000 [==============================] - 5s 106us/step - loss: 0.6855 - accuracy: 0.7841 - val_loss: 1.5486 - val_accuracy: 0.4996\n",
      "Epoch 50/50\n",
      "50000/50000 [==============================] - 6s 112us/step - loss: 0.6703 - accuracy: 0.7904 - val_loss: 1.5502 - val_accuracy: 0.4998\n"
     ]
    }
   ],
   "source": [
    "model = build_mlp(input_shape=x_train.shape[1:])\n",
    "model.summary()\n",
    "optimizer = keras.optimizers.SGD(lr=LEARNING_RATE, nesterov=True, momentum=MOMENTUM)\n",
    "model.compile(loss=\"categorical_crossentropy\", metrics=[\"accuracy\"], optimizer=optimizer)\n",
    "\n",
    "\"\"\"Code Here\n",
    "將 callbacks 放入模型訓練流程中\n",
    "\"\"\"\n",
    "model.fit(x_train, y_train, \n",
    "          epochs=EPOCHS, \n",
    "          batch_size=BATCH_SIZE, \n",
    "          validation_data=(x_test, y_test), \n",
    "          shuffle=True,\n",
    "          callbacks=[rec_tptn]\n",
    "         )\n",
    "\n",
    "# Collect results\n",
    "train_loss = model.history.history[\"loss\"]\n",
    "valid_loss = model.history.history[\"val_loss\"]\n",
    "train_acc = model.history.history[\"accuracy\"]\n",
    "valid_acc = model.history.history[\"val_accuracy\"]\n",
    "\n",
    "\"\"\"Code Here\n",
    "將 tp/tn 從訓練完的模型中取出\n",
    "\"\"\"\n",
    "valid_tp = model.history.history[\"val_tp\"]\n",
    "valid_tn = model.history.history[\"val_tn\"]"
   ]
  },
  {
   "cell_type": "code",
   "execution_count": 9,
   "metadata": {},
   "outputs": [
    {
     "data": {
      "image/png": "[encoded data removed]",
      "text/plain": [
       "<Figure size 432x288 with 1 Axes>"
      ]
     },
     "metadata": {
      "needs_background": "light"
     },
     "output_type": "display_data"
    },
    {
     "data": {
      "image/png": "[encoded data removed]",
      "text/plain": [
       "<Figure size 432x288 with 1 Axes>"
      ]
     },
     "metadata": {
      "needs_background": "light"
     },
     "output_type": "display_data"
    },
    {
     "data": {
      "image/png": "[encoded data removed]",
      "text/plain": [
       "<Figure size 432x288 with 1 Axes>"
      ]
     },
     "metadata": {
      "needs_background": "light"
     },
     "output_type": "display_data"
    }
   ],
   "source": [
    "import matplotlib.pyplot as plt\n",
    "%matplotlib inline\n",
    "\n",
    "plt.plot(range(len(train_loss)), train_loss, label=\"train loss\")\n",
    "plt.plot(range(len(valid_loss)), valid_loss, label=\"valid loss\")\n",
    "plt.legend()\n",
    "plt.title(\"Loss\")\n",
    "plt.show()\n",
    "\n",
    "plt.plot(range(len(train_acc)), train_acc, label=\"train accuracy\")\n",
    "plt.plot(range(len(valid_acc)), valid_acc, label=\"valid accuracy\")\n",
    "plt.legend()\n",
    "plt.title(\"Accuracy\")\n",
    "plt.show()\n",
    "\n",
    "plt.plot(range(len(valid_tp)), valid_tp, label=\"valid tp\", color=\"navy\")\n",
    "plt.plot(range(len(valid_tn)), valid_tn, label=\"valid tn\", color=\"red\")\n",
    "plt.legend()\n",
    "plt.title(\"True positives and True Negatives\")\n",
    "plt.show()\n"
   ]
  }
 ],
 "metadata": {
  "kernelspec": {
   "display_name": "Python 3",
   "language": "python",
   "name": "python3"
  },
  "language_info": {
   "codemirror_mode": {
    "name": "ipython",
    "version": 3
   },
   "file_extension": ".py",
   "mimetype": "text/x-python",
   "name": "python",
   "nbconvert_exporter": "python",
   "pygments_lexer": "ipython3",
   "version": "3.7.3"
  }
 },
 "nbformat": 4,
 "nbformat_minor": 2
}
