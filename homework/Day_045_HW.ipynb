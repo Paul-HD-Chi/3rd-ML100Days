{
 "cells": [
  {
   "cell_type": "markdown",
   "metadata": {},
   "source": [
    "\n",
    "A Kaggle Master Explains Gradient Boosting  \n",
    "http://blog.kaggle.com/2017/01/23/a-kaggle-master-explains-gradient-boosting/  \n",
    "  \n",
    "Gradient Boosting from scratch  \n",
    "https://medium.com/mlreview/gradient-boosting-from-scratch-1e317ae4587d  \n",
    "\n",
    "\n"
   ]
  }
 ],
 "metadata": {
  "kernelspec": {
   "display_name": "Python 3",
   "language": "python",
   "name": "python3"
  },
  "language_info": {
   "codemirror_mode": {
    "name": "ipython",
    "version": 3
   },
   "file_extension": ".py",
   "mimetype": "text/x-python",
   "name": "python",
   "nbconvert_exporter": "python",
   "pygments_lexer": "ipython3",
   "version": "3.7.3"
  }
 },
 "nbformat": 4,
 "nbformat_minor": 2
}
