{
 "cells": [
  {
   "cell_type": "markdown",
   "metadata": {},
   "source": [
    "# 作業重點:\n",
    "\n",
    "(1)以, Adam, 為例, 調整 batch_size, epoch , 觀察accurancy, loss 的變化\n",
    "\n",
    "(2)以同一模型, 分別驗證 SGD, Adam, Rmsprop 的 accurancy"
   ]
  },
  {
   "cell_type": "markdown",
   "metadata": {},
   "source": [
    "# 作業目標:\n",
    "    \n",
    "    取得各種優化器的運算結果"
   ]
  },
  {
   "cell_type": "code",
   "execution_count": 1,
   "metadata": {},
   "outputs": [
    {
     "name": "stderr",
     "output_type": "stream",
     "text": [
      "Using TensorFlow backend.\n"
     ]
    }
   ],
   "source": [
    "from __future__ import print_function\n",
    "import keras\n",
    "from keras.datasets import cifar10\n",
    "from keras.preprocessing.image import ImageDataGenerator\n",
    "from keras.models import Sequential\n",
    "from keras.layers import Dense, Dropout, Activation, Flatten\n",
    "from keras.layers import Conv2D, MaxPooling2D\n",
    "import os\n",
    "from keras import optimizers\n"
   ]
  },
  {
   "cell_type": "code",
   "execution_count": 2,
   "metadata": {},
   "outputs": [],
   "source": [
    "#Blas GEMM launch failed , 避免動態分配GPU / CPU, 出現問題\n",
    "import tensorflow as tf\n",
    "# gpu_options = tf.GPUOptions(per_process_gpu_memory_fraction=0.333)\n",
    "# sess = tf.Session(config=tf.ConfigProto(gpu_options=gpu_options))\n",
    "\n",
    "gpu_options = tf.compat.v1.GPUOptions(per_process_gpu_memory_fraction=0.333)\n",
    "sess = tf.compat.v1.Session(config=tf.compat.v1.ConfigProto(gpu_options=gpu_options))"
   ]
  },
  {
   "cell_type": "code",
   "execution_count": 3,
   "metadata": {},
   "outputs": [],
   "source": [
    "\n",
    "'''\n",
    "   宣告並設定\n",
    "   batch_size：對總的樣本數進行分組，每組包含的樣本數量\n",
    "   epochs ：訓練次數\n",
    "   \n",
    "''' \n",
    "\n",
    "#batch_size = 32\n",
    "num_classes = 10\n",
    "#epochs = 20\n",
    "data_augmentation = True\n",
    "num_predictions = 20\n",
    "save_dir = os.path.join(os.getcwd(), 'saved_models')\n",
    "model_name = 'keras_cifar10_trained_model.h5'\n"
   ]
  },
  {
   "cell_type": "code",
   "execution_count": 4,
   "metadata": {},
   "outputs": [
    {
     "name": "stdout",
     "output_type": "stream",
     "text": [
      "x_train shape: (50000, 32, 32, 3)\n",
      "50000 train samples\n",
      "10000 test samples\n"
     ]
    }
   ],
   "source": [
    "\n",
    "# The data, split between train and test sets:\n",
    "(x_train, y_train), (x_test, y_test) = cifar10.load_data()\n",
    "print('x_train shape:', x_train.shape)\n",
    "print(x_train.shape[0], 'train samples')\n",
    "print(x_test.shape[0], 'test samples')\n",
    "\n",
    "# Convert class vectors to binary class matrices.\n",
    "y_train = keras.utils.to_categorical(y_train, num_classes)\n",
    "y_test = keras.utils.to_categorical(y_test, num_classes)"
   ]
  },
  {
   "cell_type": "code",
   "execution_count": 5,
   "metadata": {},
   "outputs": [],
   "source": [
    "#    第一步：選擇模型, 順序模型是多個網絡層的線性堆疊\n",
    " \n",
    "model = Sequential()\n",
    "\n",
    "#   第二步：構建網絡層\n",
    "model.add(Conv2D(32, (3, 3), padding='same',\n",
    "                 input_shape=x_train.shape[1:]))\n",
    "model.add(Activation('relu'))\n",
    "model.add(Conv2D(32, (3, 3)))\n",
    "model.add(Activation('relu'))\n",
    "model.add(MaxPooling2D(pool_size=(2, 2)))\n",
    "model.add(Dropout(0.25))\n",
    "\n",
    "model.add(Conv2D(64, (3, 3), padding='same'))\n",
    "model.add(Activation('relu'))\n",
    "model.add(Conv2D(64, (3, 3)))\n",
    "model.add(Activation('relu'))\n",
    "model.add(MaxPooling2D(pool_size=(2, 2)))\n",
    "model.add(Dropout(0.25))\n",
    "\n",
    "model.add(Flatten())\n",
    "model.add(Dense(512))\n",
    "model.add(Activation('relu'))\n",
    "model.add(Dropout(0.5))\n",
    "\n",
    "model.add(Dense( 10)) # 輸出結果是10個類別，所以維度是10   \n",
    "model.add(Activation('softmax')) # 最後一層用softmax作為激活函數"
   ]
  },
  {
   "cell_type": "code",
   "execution_count": 6,
   "metadata": {},
   "outputs": [
    {
     "name": "stdout",
     "output_type": "stream",
     "text": [
      "Total Parameters：1250858\n"
     ]
    }
   ],
   "source": [
    "# 模型建立完成後，統計參數總量\n",
    "print(\"Total Parameters：%d\" % model.count_params())"
   ]
  },
  {
   "cell_type": "code",
   "execution_count": 7,
   "metadata": {},
   "outputs": [
    {
     "name": "stdout",
     "output_type": "stream",
     "text": [
      "Model: \"sequential_1\"\n",
      "_________________________________________________________________\n",
      "Layer (type)                 Output Shape              Param #   \n",
      "=================================================================\n",
      "conv2d_1 (Conv2D)            (None, 32, 32, 32)        896       \n",
      "_________________________________________________________________\n",
      "activation_1 (Activation)    (None, 32, 32, 32)        0         \n",
      "_________________________________________________________________\n",
      "conv2d_2 (Conv2D)            (None, 30, 30, 32)        9248      \n",
      "_________________________________________________________________\n",
      "activation_2 (Activation)    (None, 30, 30, 32)        0         \n",
      "_________________________________________________________________\n",
      "max_pooling2d_1 (MaxPooling2 (None, 15, 15, 32)        0         \n",
      "_________________________________________________________________\n",
      "dropout_1 (Dropout)          (None, 15, 15, 32)        0         \n",
      "_________________________________________________________________\n",
      "conv2d_3 (Conv2D)            (None, 15, 15, 64)        18496     \n",
      "_________________________________________________________________\n",
      "activation_3 (Activation)    (None, 15, 15, 64)        0         \n",
      "_________________________________________________________________\n",
      "conv2d_4 (Conv2D)            (None, 13, 13, 64)        36928     \n",
      "_________________________________________________________________\n",
      "activation_4 (Activation)    (None, 13, 13, 64)        0         \n",
      "_________________________________________________________________\n",
      "max_pooling2d_2 (MaxPooling2 (None, 6, 6, 64)          0         \n",
      "_________________________________________________________________\n",
      "dropout_2 (Dropout)          (None, 6, 6, 64)          0         \n",
      "_________________________________________________________________\n",
      "flatten_1 (Flatten)          (None, 2304)              0         \n",
      "_________________________________________________________________\n",
      "dense_1 (Dense)              (None, 512)               1180160   \n",
      "_________________________________________________________________\n",
      "activation_5 (Activation)    (None, 512)               0         \n",
      "_________________________________________________________________\n",
      "dropout_3 (Dropout)          (None, 512)               0         \n",
      "_________________________________________________________________\n",
      "dense_2 (Dense)              (None, 10)                5130      \n",
      "_________________________________________________________________\n",
      "activation_6 (Activation)    (None, 10)                0         \n",
      "=================================================================\n",
      "Total params: 1,250,858\n",
      "Trainable params: 1,250,858\n",
      "Non-trainable params: 0\n",
      "_________________________________________________________________\n"
     ]
    }
   ],
   "source": [
    "# 輸出模型摘要資訊\n",
    "model.summary()"
   ]
  },
  {
   "cell_type": "code",
   "execution_count": 8,
   "metadata": {},
   "outputs": [],
   "source": [
    "# 資料正規化\n",
    "x_train = x_train.astype('float32')\n",
    "x_test = x_test.astype('float32')\n",
    "x_train /= 255\n",
    "x_test /= 255\n"
   ]
  },
  {
   "cell_type": "markdown",
   "metadata": {},
   "source": [
    "# (1)以, Adam, 為例, 調整 batch_size, epoch , 觀察accurancy, loss 的變化  \n",
    "  \n",
    "case 1, batch_size = 32, epochs = 10  \n",
    "Test loss: 0.7225250545501709  \n",
    "Test accuracy: 0.7531999945640564  \n",
    "  \n",
    "case 2, batch_size = 64, epochs = 10  \n",
    "Test loss: 0.6624172859191895  \n",
    "Test accuracy: 0.7908999919891357  \n",
    "  \n",
    "Case 3, batch_size = 64, epochs = 20  \n",
    "Test loss: 0.7056293073177338  \n",
    "Test accuracy: 0.8001999855041504  \n",
    "\n",
    "Case 4, batch_size = 32, epochs = 20  \n",
    "Test loss: 0.7195695086956024  \n",
    "Test accuracy: 0.7885000109672546  \n"
   ]
  },
  {
   "cell_type": "code",
   "execution_count": 9,
   "metadata": {},
   "outputs": [],
   "source": [
    "# Case 1, batch_size = 32, epochs = 10\n",
    "batch_size = 32\n",
    "epochs = 10"
   ]
  },
  {
   "cell_type": "code",
   "execution_count": 10,
   "metadata": {},
   "outputs": [],
   "source": [
    "#第三步編譯\n",
    "model.compile(optimizer = 'adam', loss = 'categorical_crossentropy', metrics = ['accuracy'])\n"
   ]
  },
  {
   "cell_type": "code",
   "execution_count": 11,
   "metadata": {},
   "outputs": [
    {
     "name": "stdout",
     "output_type": "stream",
     "text": [
      "Using real-time data augmentation.\n",
      "\n",
      "Train on 50000 samples, validate on 10000 samples\n",
      "Epoch 1/10\n",
      "50000/50000 [==============================] - 49s 988us/step - loss: 1.4913 - accuracy: 0.4548 - val_loss: 1.1316 - val_accuracy: 0.5971\n",
      "Epoch 2/10\n",
      "50000/50000 [==============================] - 47s 943us/step - loss: 1.1217 - accuracy: 0.6013 - val_loss: 0.9463 - val_accuracy: 0.6736\n",
      "Epoch 3/10\n",
      "50000/50000 [==============================] - 46s 922us/step - loss: 0.9699 - accuracy: 0.6584 - val_loss: 0.8397 - val_accuracy: 0.7086\n",
      "Epoch 4/10\n",
      "50000/50000 [==============================] - 46s 910us/step - loss: 0.8801 - accuracy: 0.6909 - val_loss: 0.8196 - val_accuracy: 0.7182\n",
      "Epoch 5/10\n",
      "50000/50000 [==============================] - 46s 912us/step - loss: 0.8068 - accuracy: 0.7173 - val_loss: 0.7461 - val_accuracy: 0.7436\n",
      "Epoch 6/10\n",
      "50000/50000 [==============================] - 46s 911us/step - loss: 0.7594 - accuracy: 0.7315 - val_loss: 0.7288 - val_accuracy: 0.7484\n",
      "Epoch 7/10\n",
      "50000/50000 [==============================] - 46s 910us/step - loss: 0.7202 - accuracy: 0.7482 - val_loss: 0.7346 - val_accuracy: 0.7494\n",
      "Epoch 8/10\n",
      "50000/50000 [==============================] - 45s 909us/step - loss: 0.6888 - accuracy: 0.7588 - val_loss: 0.7275 - val_accuracy: 0.7521\n",
      "Epoch 9/10\n",
      "50000/50000 [==============================] - 46s 910us/step - loss: 0.6562 - accuracy: 0.7679 - val_loss: 0.7033 - val_accuracy: 0.7613\n",
      "Epoch 10/10\n",
      "50000/50000 [==============================] - 45s 909us/step - loss: 0.6264 - accuracy: 0.7805 - val_loss: 0.7225 - val_accuracy: 0.7532\n"
     ]
    },
    {
     "data": {
      "text/plain": [
       "'\\n   第四步：訓練\\n   .fit的一些參數\\n   batch_size：對總的樣本數進行分組，每組包含的樣本數量\\n   epochs ：訓練次數\\n   shuffle：是否把數據隨機打亂之後再進行訓練\\n   validation_split：拿出百分之多少用來做交叉驗證\\n   verbose：屏顯模式 - 0：不輸出, 1：輸出進度, 2：輸出每次的訓練結果\\n'"
      ]
     },
     "execution_count": 11,
     "metadata": {},
     "output_type": "execute_result"
    }
   ],
   "source": [
    "# 是否要做資料處理\n",
    "if not data_augmentation:\n",
    "    print('Not using data augmentation.')\n",
    "    history=model.fit(x_train, y_train,\n",
    "              batch_size=batch_size,\n",
    "              epochs=epochs,\n",
    "              validation_data=(x_test, y_test),\n",
    "              shuffle=True)\n",
    "else:\n",
    "    print('Using real-time data augmentation.')\n",
    "    print('')\n",
    "        \n",
    "    # This will do preprocessing and realtime data augmentation:\n",
    "    datagen = ImageDataGenerator(\n",
    "        featurewise_center=False,  # set input mean to 0 over the dataset\n",
    "        samplewise_center=False,  # set each sample mean to 0\n",
    "        featurewise_std_normalization=False,  # divide inputs by std of the dataset\n",
    "        samplewise_std_normalization=False,  # divide each input by its std\n",
    "        zca_whitening=False,  # apply ZCA whitening\n",
    "        zca_epsilon=1e-06,  # epsilon for ZCA whitening\n",
    "        rotation_range=0,  # randomly rotate images in the range (degrees, 0 to 180)\n",
    "        # randomly shift images horizontally (fraction of total width)\n",
    "        width_shift_range=0.1,\n",
    "        # randomly shift images vertically (fraction of total height)\n",
    "        height_shift_range=0.1,\n",
    "        shear_range=0.,  # set range for random shear\n",
    "        zoom_range=0.,  # set range for random zoom\n",
    "        channel_shift_range=0.,  # set range for random channel shifts\n",
    "        # set mode for filling points outside the input boundaries\n",
    "        fill_mode='nearest',\n",
    "        cval=0.,  # value used for fill_mode = \"constant\"\n",
    "        horizontal_flip=True,  # randomly flip images\n",
    "        vertical_flip=False,  # randomly flip images\n",
    "        # set rescaling factor (applied before any other transformation)\n",
    "        rescale=None,\n",
    "        # set function that will be applied on each input\n",
    "        preprocessing_function=None,\n",
    "        # image data format, either \"channels_first\" or \"channels_last\"\n",
    "        data_format=None,\n",
    "        # fraction of images reserved for validation (strictly between 0 and 1)\n",
    "        validation_split=0.0)\n",
    "\n",
    "    # Compute quantities required for feature-wise normalization\n",
    "    # (std, mean, and principal components if ZCA whitening is applied).\n",
    "    datagen.fit(x_train)\n",
    "    history=model.fit(x_train, y_train,\n",
    "              batch_size=batch_size,\n",
    "              epochs=epochs,\n",
    "              validation_data=(x_test, y_test),\n",
    "              shuffle=True)   \n",
    "\n",
    "'''\n",
    "   第四步：訓練\n",
    "   .fit的一些參數\n",
    "   batch_size：對總的樣本數進行分組，每組包含的樣本數量\n",
    "   epochs ：訓練次數\n",
    "   shuffle：是否把數據隨機打亂之後再進行訓練\n",
    "   validation_split：拿出百分之多少用來做交叉驗證\n",
    "   verbose：屏顯模式 - 0：不輸出, 1：輸出進度, 2：輸出每次的訓練結果\n",
    "''' \n",
    "    "
   ]
  },
  {
   "cell_type": "code",
   "execution_count": 12,
   "metadata": {},
   "outputs": [
    {
     "name": "stdout",
     "output_type": "stream",
     "text": [
      "Saved trained model at E:\\Paul Chi\\School\\《機器學習百日馬拉松》\\04 範例回答\\Day_076_HW\\saved_models\\keras_cifar10_trained_model.h5 \n",
      "10000/10000 [==============================] - 3s 255us/step\n",
      "Test loss: 0.7225250545501709\n",
      "Test accuracy: 0.7531999945640564\n"
     ]
    }
   ],
   "source": [
    "# Save model and weights\n",
    "if not os.path.isdir(save_dir):\n",
    "    os.makedirs(save_dir)\n",
    "model_path = os.path.join(save_dir, model_name)\n",
    "model.save(model_path)\n",
    "print('Saved trained model at %s ' % model_path)\n",
    "\n",
    "# Score trained model.\n",
    "scores = model.evaluate(x_test, y_test, verbose=1)\n",
    "print('Test loss:', scores[0])\n",
    "print('Test accuracy:', scores[1])"
   ]
  },
  {
   "cell_type": "code",
   "execution_count": 13,
   "metadata": {},
   "outputs": [
    {
     "name": "stdout",
     "output_type": "stream",
     "text": [
      " test set \n",
      "\n",
      " The test loss is %f  [0.7225250661373138, 0.7531999945640564]\n"
     ]
    }
   ],
   "source": [
    "#    第六步：輸出\n",
    "import numpy \n",
    "\n",
    "print ( \" test set \" )\n",
    "scores = model.evaluate(x_test,y_test,batch_size=200,verbose= 0)\n",
    "print ( \"\" )\n",
    "#print ( \" The test loss is %f \" % scores)\n",
    "print ( \" The test loss is %f \", scores)\n",
    "\n",
    "\n",
    "result = model.predict(x_test,batch_size=200,verbose= 0)\n",
    "\n",
    "result_max = numpy.argmax(result, axis = 1 )\n",
    "test_max = numpy.argmax(y_test, axis = 1 )\n",
    "\n",
    "result_bool = numpy.equal(result_max, test_max)\n",
    "true_num = numpy.sum(result_bool)\n"
   ]
  },
  {
   "cell_type": "code",
   "execution_count": 14,
   "metadata": {},
   "outputs": [
    {
     "data": {
      "image/png": "[encoded data removed]",
      "text/plain": [
       "<Figure size 432x288 with 1 Axes>"
      ]
     },
     "metadata": {
      "needs_background": "light"
     },
     "output_type": "display_data"
    },
    {
     "data": {
      "image/png": "[encoded data removed]",
      "text/plain": [
       "<Figure size 432x288 with 1 Axes>"
      ]
     },
     "metadata": {
      "needs_background": "light"
     },
     "output_type": "display_data"
    }
   ],
   "source": [
    "import matplotlib.pyplot as plt\n",
    "%matplotlib inline\n",
    "\n",
    "# Plot training & validation accuracy values\n",
    "plt.plot(history.history['accuracy'])\n",
    "plt.plot(history.history['val_accuracy'])\n",
    "plt.title('Model accuracy')\n",
    "plt.ylabel('Accuracy')\n",
    "plt.xlabel('Epoch')\n",
    "plt.legend(['Train', 'Valiidation'], loc='upper left')\n",
    "plt.show()\n",
    "\n",
    "# Plot training & validation loss values\n",
    "plt.plot(history.history['loss'])\n",
    "plt.plot(history.history['val_loss'])\n",
    "plt.title('Model loss')\n",
    "plt.ylabel('Loss')\n",
    "plt.xlabel('Epoch')\n",
    "plt.legend(['Train', 'Valiidation'], loc='upper left')\n",
    "plt.show()"
   ]
  },
  {
   "cell_type": "code",
   "execution_count": 15,
   "metadata": {},
   "outputs": [],
   "source": [
    "# Case 2, batch_size = 64, epochs = 10\n",
    "batch_size = 64\n",
    "epochs = 10"
   ]
  },
  {
   "cell_type": "code",
   "execution_count": 16,
   "metadata": {},
   "outputs": [
    {
     "name": "stdout",
     "output_type": "stream",
     "text": [
      "Using real-time data augmentation.\n",
      "\n",
      "Train on 50000 samples, validate on 10000 samples\n",
      "Epoch 1/10\n",
      "50000/50000 [==============================] - 36s 712us/step - loss: 0.5431 - accuracy: 0.8108 - val_loss: 0.6405 - val_accuracy: 0.7843\n",
      "Epoch 2/10\n",
      "50000/50000 [==============================] - 35s 699us/step - loss: 0.5222 - accuracy: 0.8164 - val_loss: 0.6462 - val_accuracy: 0.7828\n",
      "Epoch 3/10\n",
      "50000/50000 [==============================] - 35s 698us/step - loss: 0.5077 - accuracy: 0.8208 - val_loss: 0.6653 - val_accuracy: 0.7785\n",
      "Epoch 4/10\n",
      "50000/50000 [==============================] - 35s 695us/step - loss: 0.4934 - accuracy: 0.8254 - val_loss: 0.6396 - val_accuracy: 0.7876\n",
      "Epoch 5/10\n",
      "50000/50000 [==============================] - 36s 714us/step - loss: 0.4799 - accuracy: 0.8317 - val_loss: 0.6505 - val_accuracy: 0.7885\n",
      "Epoch 6/10\n",
      "50000/50000 [==============================] - 35s 698us/step - loss: 0.4616 - accuracy: 0.8357 - val_loss: 0.6470 - val_accuracy: 0.7919\n",
      "Epoch 7/10\n",
      "50000/50000 [==============================] - 35s 692us/step - loss: 0.4564 - accuracy: 0.8389 - val_loss: 0.6435 - val_accuracy: 0.7914\n",
      "Epoch 8/10\n",
      "50000/50000 [==============================] - 35s 708us/step - loss: 0.4354 - accuracy: 0.8448 - val_loss: 0.6574 - val_accuracy: 0.7865\n",
      "Epoch 9/10\n",
      "50000/50000 [==============================] - 35s 697us/step - loss: 0.4327 - accuracy: 0.8463 - val_loss: 0.6767 - val_accuracy: 0.7828\n",
      "Epoch 10/10\n",
      "50000/50000 [==============================] - 35s 694us/step - loss: 0.4183 - accuracy: 0.8523 - val_loss: 0.6624 - val_accuracy: 0.7909\n"
     ]
    }
   ],
   "source": [
    "# 是否要做資料處理\n",
    "if not data_augmentation:\n",
    "    print('Not using data augmentation.')\n",
    "    history=model.fit(x_train, y_train,\n",
    "              batch_size=batch_size,\n",
    "              epochs=epochs,\n",
    "              validation_data=(x_test, y_test),\n",
    "              shuffle=True)\n",
    "else:\n",
    "    print('Using real-time data augmentation.')\n",
    "    print('')\n",
    "        \n",
    "    # This will do preprocessing and realtime data augmentation:\n",
    "    datagen = ImageDataGenerator(\n",
    "        featurewise_center=False,  # set input mean to 0 over the dataset\n",
    "        samplewise_center=False,  # set each sample mean to 0\n",
    "        featurewise_std_normalization=False,  # divide inputs by std of the dataset\n",
    "        samplewise_std_normalization=False,  # divide each input by its std\n",
    "        zca_whitening=False,  # apply ZCA whitening\n",
    "        zca_epsilon=1e-06,  # epsilon for ZCA whitening\n",
    "        rotation_range=0,  # randomly rotate images in the range (degrees, 0 to 180)\n",
    "        # randomly shift images horizontally (fraction of total width)\n",
    "        width_shift_range=0.1,\n",
    "        # randomly shift images vertically (fraction of total height)\n",
    "        height_shift_range=0.1,\n",
    "        shear_range=0.,  # set range for random shear\n",
    "        zoom_range=0.,  # set range for random zoom\n",
    "        channel_shift_range=0.,  # set range for random channel shifts\n",
    "        # set mode for filling points outside the input boundaries\n",
    "        fill_mode='nearest',\n",
    "        cval=0.,  # value used for fill_mode = \"constant\"\n",
    "        horizontal_flip=True,  # randomly flip images\n",
    "        vertical_flip=False,  # randomly flip images\n",
    "        # set rescaling factor (applied before any other transformation)\n",
    "        rescale=None,\n",
    "        # set function that will be applied on each input\n",
    "        preprocessing_function=None,\n",
    "        # image data format, either \"channels_first\" or \"channels_last\"\n",
    "        data_format=None,\n",
    "        # fraction of images reserved for validation (strictly between 0 and 1)\n",
    "        validation_split=0.0)\n",
    "\n",
    "    # Compute quantities required for feature-wise normalization\n",
    "    # (std, mean, and principal components if ZCA whitening is applied).\n",
    "    datagen.fit(x_train)\n",
    "    history=model.fit(x_train, y_train,\n",
    "              batch_size=batch_size,\n",
    "              epochs=epochs,\n",
    "              validation_data=(x_test, y_test),\n",
    "              shuffle=True)   \n"
   ]
  },
  {
   "cell_type": "code",
   "execution_count": 17,
   "metadata": {},
   "outputs": [
    {
     "name": "stdout",
     "output_type": "stream",
     "text": [
      "Saved trained model at E:\\Paul Chi\\School\\《機器學習百日馬拉松》\\04 範例回答\\Day_076_HW\\saved_models\\keras_cifar10_trained_model.h5 \n",
      "10000/10000 [==============================] - 3s 272us/step\n",
      "Test loss: 0.6624172859191895\n",
      "Test accuracy: 0.7908999919891357\n"
     ]
    }
   ],
   "source": [
    "# Save model and weights\n",
    "if not os.path.isdir(save_dir):\n",
    "    os.makedirs(save_dir)\n",
    "model_path = os.path.join(save_dir, model_name)\n",
    "model.save(model_path)\n",
    "print('Saved trained model at %s ' % model_path)\n",
    "\n",
    "# Score trained model.\n",
    "scores = model.evaluate(x_test, y_test, verbose=1)\n",
    "print('Test loss:', scores[0])\n",
    "print('Test accuracy:', scores[1])"
   ]
  },
  {
   "cell_type": "code",
   "execution_count": 18,
   "metadata": {},
   "outputs": [
    {
     "name": "stdout",
     "output_type": "stream",
     "text": [
      " test set \n",
      "\n",
      " The test loss is %f  [0.662417289018631, 0.7908999919891357]\n",
      "true_num = 7909\n"
     ]
    }
   ],
   "source": [
    "#    第六步：輸出\n",
    "import numpy \n",
    "\n",
    "print ( \" test set \" )\n",
    "scores = model.evaluate(x_test,y_test,batch_size=200,verbose= 0)\n",
    "print ( \"\" )\n",
    "#print ( \" The test loss is %f \" % scores)\n",
    "print ( \" The test loss is %f \", scores)\n",
    "\n",
    "\n",
    "result = model.predict(x_test,batch_size=200,verbose= 0)\n",
    "\n",
    "result_max = numpy.argmax(result, axis = 1 )\n",
    "test_max = numpy.argmax(y_test, axis = 1 )\n",
    "\n",
    "result_bool = numpy.equal(result_max, test_max)\n",
    "true_num = numpy.sum(result_bool)\n",
    "\n",
    "print(f\"true_num = {true_num}\")"
   ]
  },
  {
   "cell_type": "code",
   "execution_count": 19,
   "metadata": {},
   "outputs": [
    {
     "data": {
      "image/png": "[encoded data removed]",
      "text/plain": [
       "<Figure size 432x288 with 1 Axes>"
      ]
     },
     "metadata": {
      "needs_background": "light"
     },
     "output_type": "display_data"
    },
    {
     "data": {
      "image/png": "[encoded data removed]",
      "text/plain": [
       "<Figure size 432x288 with 1 Axes>"
      ]
     },
     "metadata": {
      "needs_background": "light"
     },
     "output_type": "display_data"
    }
   ],
   "source": [
    "import matplotlib.pyplot as plt\n",
    "%matplotlib inline\n",
    "\n",
    "# Plot training & validation accuracy values\n",
    "plt.plot(history.history['accuracy'])\n",
    "plt.plot(history.history['val_accuracy'])\n",
    "plt.title('Model accuracy')\n",
    "plt.ylabel('Accuracy')\n",
    "plt.xlabel('Epoch')\n",
    "plt.legend(['Train', 'Valiidation'], loc='upper left')\n",
    "plt.show()\n",
    "\n",
    "# Plot training & validation loss values\n",
    "plt.plot(history.history['loss'])\n",
    "plt.plot(history.history['val_loss'])\n",
    "plt.title('Model loss')\n",
    "plt.ylabel('Loss')\n",
    "plt.xlabel('Epoch')\n",
    "plt.legend(['Train', 'Valiidation'], loc='upper left')\n",
    "plt.show()"
   ]
  },
  {
   "cell_type": "code",
   "execution_count": 20,
   "metadata": {},
   "outputs": [],
   "source": [
    "# Case 3, batch_size = 64, epochs = 20\n",
    "batch_size = 64\n",
    "epochs = 20"
   ]
  },
  {
   "cell_type": "code",
   "execution_count": 21,
   "metadata": {},
   "outputs": [
    {
     "name": "stdout",
     "output_type": "stream",
     "text": [
      "Using real-time data augmentation.\n",
      "\n",
      "Train on 50000 samples, validate on 10000 samples\n",
      "Epoch 1/20\n",
      "50000/50000 [==============================] - 35s 692us/step - loss: 0.4087 - accuracy: 0.8540 - val_loss: 0.6898 - val_accuracy: 0.7882\n",
      "Epoch 2/20\n",
      "50000/50000 [==============================] - 35s 693us/step - loss: 0.4063 - accuracy: 0.8560 - val_loss: 0.6574 - val_accuracy: 0.7933\n",
      "Epoch 3/20\n",
      "50000/50000 [==============================] - 35s 692us/step - loss: 0.3891 - accuracy: 0.8624 - val_loss: 0.6566 - val_accuracy: 0.7932\n",
      "Epoch 4/20\n",
      "50000/50000 [==============================] - 35s 700us/step - loss: 0.3905 - accuracy: 0.8627 - val_loss: 0.6553 - val_accuracy: 0.7949\n",
      "Epoch 5/20\n",
      "50000/50000 [==============================] - 35s 692us/step - loss: 0.3796 - accuracy: 0.8656 - val_loss: 0.6711 - val_accuracy: 0.7900\n",
      "Epoch 6/20\n",
      "50000/50000 [==============================] - 35s 694us/step - loss: 0.3774 - accuracy: 0.8661 - val_loss: 0.6538 - val_accuracy: 0.7970\n",
      "Epoch 7/20\n",
      "50000/50000 [==============================] - 35s 698us/step - loss: 0.3707 - accuracy: 0.8700 - val_loss: 0.6449 - val_accuracy: 0.7975\n",
      "Epoch 8/20\n",
      "50000/50000 [==============================] - 35s 697us/step - loss: 0.3584 - accuracy: 0.8710 - val_loss: 0.7130 - val_accuracy: 0.7893\n",
      "Epoch 9/20\n",
      "50000/50000 [==============================] - 35s 707us/step - loss: 0.3555 - accuracy: 0.8742 - val_loss: 0.6681 - val_accuracy: 0.7919\n",
      "Epoch 10/20\n",
      "50000/50000 [==============================] - 35s 699us/step - loss: 0.3568 - accuracy: 0.8734 - val_loss: 0.6908 - val_accuracy: 0.7964\n",
      "Epoch 11/20\n",
      "50000/50000 [==============================] - 35s 705us/step - loss: 0.3513 - accuracy: 0.8758 - val_loss: 0.6950 - val_accuracy: 0.7925\n",
      "Epoch 12/20\n",
      "50000/50000 [==============================] - 35s 693us/step - loss: 0.3436 - accuracy: 0.8791 - val_loss: 0.6863 - val_accuracy: 0.7919\n",
      "Epoch 13/20\n",
      "50000/50000 [==============================] - 35s 696us/step - loss: 0.3396 - accuracy: 0.8805 - val_loss: 0.6727 - val_accuracy: 0.7961\n",
      "Epoch 14/20\n",
      "50000/50000 [==============================] - 35s 698us/step - loss: 0.3351 - accuracy: 0.8811 - val_loss: 0.6958 - val_accuracy: 0.7962\n",
      "Epoch 15/20\n",
      "50000/50000 [==============================] - 35s 696us/step - loss: 0.3355 - accuracy: 0.8814 - val_loss: 0.7234 - val_accuracy: 0.7909\n",
      "Epoch 16/20\n",
      "50000/50000 [==============================] - 35s 703us/step - loss: 0.3282 - accuracy: 0.8843 - val_loss: 0.7157 - val_accuracy: 0.7910\n",
      "Epoch 17/20\n",
      "50000/50000 [==============================] - 35s 701us/step - loss: 0.3162 - accuracy: 0.8890 - val_loss: 0.6842 - val_accuracy: 0.7924\n",
      "Epoch 18/20\n",
      "50000/50000 [==============================] - 35s 700us/step - loss: 0.3201 - accuracy: 0.8878 - val_loss: 0.7198 - val_accuracy: 0.7918\n",
      "Epoch 19/20\n",
      "50000/50000 [==============================] - 35s 702us/step - loss: 0.3184 - accuracy: 0.8894 - val_loss: 0.7171 - val_accuracy: 0.7967\n",
      "Epoch 20/20\n",
      "50000/50000 [==============================] - 35s 700us/step - loss: 0.3192 - accuracy: 0.8873 - val_loss: 0.7056 - val_accuracy: 0.8002\n"
     ]
    }
   ],
   "source": [
    "# 是否要做資料處理\n",
    "if not data_augmentation:\n",
    "    print('Not using data augmentation.')\n",
    "    history=model.fit(x_train, y_train,\n",
    "              batch_size=batch_size,\n",
    "              epochs=epochs,\n",
    "              validation_data=(x_test, y_test),\n",
    "              shuffle=True)\n",
    "else:\n",
    "    print('Using real-time data augmentation.')\n",
    "    print('')\n",
    "        \n",
    "    # This will do preprocessing and realtime data augmentation:\n",
    "    datagen = ImageDataGenerator(\n",
    "        featurewise_center=False,  # set input mean to 0 over the dataset\n",
    "        samplewise_center=False,  # set each sample mean to 0\n",
    "        featurewise_std_normalization=False,  # divide inputs by std of the dataset\n",
    "        samplewise_std_normalization=False,  # divide each input by its std\n",
    "        zca_whitening=False,  # apply ZCA whitening\n",
    "        zca_epsilon=1e-06,  # epsilon for ZCA whitening\n",
    "        rotation_range=0,  # randomly rotate images in the range (degrees, 0 to 180)\n",
    "        # randomly shift images horizontally (fraction of total width)\n",
    "        width_shift_range=0.1,\n",
    "        # randomly shift images vertically (fraction of total height)\n",
    "        height_shift_range=0.1,\n",
    "        shear_range=0.,  # set range for random shear\n",
    "        zoom_range=0.,  # set range for random zoom\n",
    "        channel_shift_range=0.,  # set range for random channel shifts\n",
    "        # set mode for filling points outside the input boundaries\n",
    "        fill_mode='nearest',\n",
    "        cval=0.,  # value used for fill_mode = \"constant\"\n",
    "        horizontal_flip=True,  # randomly flip images\n",
    "        vertical_flip=False,  # randomly flip images\n",
    "        # set rescaling factor (applied before any other transformation)\n",
    "        rescale=None,\n",
    "        # set function that will be applied on each input\n",
    "        preprocessing_function=None,\n",
    "        # image data format, either \"channels_first\" or \"channels_last\"\n",
    "        data_format=None,\n",
    "        # fraction of images reserved for validation (strictly between 0 and 1)\n",
    "        validation_split=0.0)\n",
    "\n",
    "    # Compute quantities required for feature-wise normalization\n",
    "    # (std, mean, and principal components if ZCA whitening is applied).\n",
    "    datagen.fit(x_train)\n",
    "    history=model.fit(x_train, y_train,\n",
    "              batch_size=batch_size,\n",
    "              epochs=epochs,\n",
    "              validation_data=(x_test, y_test),\n",
    "              shuffle=True)   \n"
   ]
  },
  {
   "cell_type": "code",
   "execution_count": 22,
   "metadata": {},
   "outputs": [
    {
     "name": "stdout",
     "output_type": "stream",
     "text": [
      "Saved trained model at E:\\Paul Chi\\School\\《機器學習百日馬拉松》\\04 範例回答\\Day_076_HW\\saved_models\\keras_cifar10_trained_model.h5 \n",
      "10000/10000 [==============================] - 3s 257us/step\n",
      "Test loss: 0.7056293073177338\n",
      "Test accuracy: 0.8001999855041504\n"
     ]
    }
   ],
   "source": [
    "# Save model and weights\n",
    "if not os.path.isdir(save_dir):\n",
    "    os.makedirs(save_dir)\n",
    "model_path = os.path.join(save_dir, model_name)\n",
    "model.save(model_path)\n",
    "print('Saved trained model at %s ' % model_path)\n",
    "\n",
    "# Score trained model.\n",
    "scores = model.evaluate(x_test, y_test, verbose=1)\n",
    "print('Test loss:', scores[0])\n",
    "print('Test accuracy:', scores[1])"
   ]
  },
  {
   "cell_type": "code",
   "execution_count": 23,
   "metadata": {},
   "outputs": [
    {
     "name": "stdout",
     "output_type": "stream",
     "text": [
      " test set \n",
      "\n",
      " The test loss is %f  [0.7056293189525604, 0.8001999855041504]\n",
      "true_num = 8002\n"
     ]
    }
   ],
   "source": [
    "#    第六步：輸出\n",
    "import numpy \n",
    "\n",
    "print ( \" test set \" )\n",
    "scores = model.evaluate(x_test,y_test,batch_size=200,verbose= 0)\n",
    "print ( \"\" )\n",
    "#print ( \" The test loss is %f \" % scores)\n",
    "print ( \" The test loss is %f \", scores)\n",
    "\n",
    "\n",
    "result = model.predict(x_test,batch_size=200,verbose= 0)\n",
    "\n",
    "result_max = numpy.argmax(result, axis = 1 )\n",
    "test_max = numpy.argmax(y_test, axis = 1 )\n",
    "\n",
    "result_bool = numpy.equal(result_max, test_max)\n",
    "true_num = numpy.sum(result_bool)\n",
    "\n",
    "print(f\"true_num = {true_num}\")"
   ]
  },
  {
   "cell_type": "code",
   "execution_count": 24,
   "metadata": {},
   "outputs": [
    {
     "data": {
      "image/png": "[encoded data removed]",
      "text/plain": [
       "<Figure size 432x288 with 1 Axes>"
      ]
     },
     "metadata": {
      "needs_background": "light"
     },
     "output_type": "display_data"
    },
    {
     "data": {
      "image/png": "[encoded data removed]",
      "text/plain": [
       "<Figure size 432x288 with 1 Axes>"
      ]
     },
     "metadata": {
      "needs_background": "light"
     },
     "output_type": "display_data"
    }
   ],
   "source": [
    "import matplotlib.pyplot as plt\n",
    "%matplotlib inline\n",
    "\n",
    "# Plot training & validation accuracy values\n",
    "plt.plot(history.history['accuracy'])\n",
    "plt.plot(history.history['val_accuracy'])\n",
    "plt.title('Model accuracy')\n",
    "plt.ylabel('Accuracy')\n",
    "plt.xlabel('Epoch')\n",
    "plt.legend(['Train', 'Valiidation'], loc='upper left')\n",
    "plt.show()\n",
    "\n",
    "# Plot training & validation loss values\n",
    "plt.plot(history.history['loss'])\n",
    "plt.plot(history.history['val_loss'])\n",
    "plt.title('Model loss')\n",
    "plt.ylabel('Loss')\n",
    "plt.xlabel('Epoch')\n",
    "plt.legend(['Train', 'Valiidation'], loc='upper left')\n",
    "plt.show()"
   ]
  },
  {
   "cell_type": "code",
   "execution_count": 25,
   "metadata": {},
   "outputs": [],
   "source": [
    "# Case 4, batch_size = 32, epochs = 20\n",
    "batch_size = 32\n",
    "epochs = 20"
   ]
  },
  {
   "cell_type": "code",
   "execution_count": 26,
   "metadata": {},
   "outputs": [
    {
     "name": "stdout",
     "output_type": "stream",
     "text": [
      "Using real-time data augmentation.\n",
      "\n",
      "Train on 50000 samples, validate on 10000 samples\n",
      "Epoch 1/20\n",
      "50000/50000 [==============================] - 50s 1ms/step - loss: 0.4086 - accuracy: 0.8589 - val_loss: 0.7304 - val_accuracy: 0.7775\n",
      "Epoch 2/20\n",
      "50000/50000 [==============================] - 47s 946us/step - loss: 0.3905 - accuracy: 0.8646 - val_loss: 0.7252 - val_accuracy: 0.7828\n",
      "Epoch 3/20\n",
      "50000/50000 [==============================] - 46s 920us/step - loss: 0.3850 - accuracy: 0.8666 - val_loss: 0.7163 - val_accuracy: 0.7802\n",
      "Epoch 4/20\n",
      "50000/50000 [==============================] - 46s 923us/step - loss: 0.3829 - accuracy: 0.8676 - val_loss: 0.7146 - val_accuracy: 0.7883\n",
      "Epoch 5/20\n",
      "50000/50000 [==============================] - 46s 921us/step - loss: 0.3821 - accuracy: 0.8670 - val_loss: 0.7160 - val_accuracy: 0.7869\n",
      "Epoch 6/20\n",
      "50000/50000 [==============================] - 46s 915us/step - loss: 0.3735 - accuracy: 0.8721 - val_loss: 0.7018 - val_accuracy: 0.7881\n",
      "Epoch 7/20\n",
      "50000/50000 [==============================] - 46s 919us/step - loss: 0.3817 - accuracy: 0.8688 - val_loss: 0.6945 - val_accuracy: 0.7888\n",
      "Epoch 8/20\n",
      "50000/50000 [==============================] - 46s 917us/step - loss: 0.3759 - accuracy: 0.8708 - val_loss: 0.6944 - val_accuracy: 0.7930\n",
      "Epoch 9/20\n",
      "50000/50000 [==============================] - 46s 924us/step - loss: 0.3789 - accuracy: 0.8690 - val_loss: 0.7028 - val_accuracy: 0.7880\n",
      "Epoch 10/20\n",
      "50000/50000 [==============================] - 46s 930us/step - loss: 0.3745 - accuracy: 0.8719 - val_loss: 0.7083 - val_accuracy: 0.7951\n",
      "Epoch 11/20\n",
      "50000/50000 [==============================] - 46s 923us/step - loss: 0.3653 - accuracy: 0.8744 - val_loss: 0.7131 - val_accuracy: 0.7889\n",
      "Epoch 12/20\n",
      "50000/50000 [==============================] - 46s 922us/step - loss: 0.3734 - accuracy: 0.8721 - val_loss: 0.7468 - val_accuracy: 0.7794\n",
      "Epoch 13/20\n",
      "50000/50000 [==============================] - 46s 924us/step - loss: 0.3595 - accuracy: 0.8747 - val_loss: 0.7105 - val_accuracy: 0.7896\n",
      "Epoch 14/20\n",
      "50000/50000 [==============================] - 46s 924us/step - loss: 0.3703 - accuracy: 0.8725 - val_loss: 0.7318 - val_accuracy: 0.7842\n",
      "Epoch 15/20\n",
      "50000/50000 [==============================] - 46s 927us/step - loss: 0.3700 - accuracy: 0.8749 - val_loss: 0.7311 - val_accuracy: 0.7888\n",
      "Epoch 16/20\n",
      "50000/50000 [==============================] - 47s 935us/step - loss: 0.3689 - accuracy: 0.8722 - val_loss: 0.7165 - val_accuracy: 0.7886\n",
      "Epoch 17/20\n",
      "50000/50000 [==============================] - 46s 928us/step - loss: 0.3637 - accuracy: 0.8758 - val_loss: 0.7016 - val_accuracy: 0.7923\n",
      "Epoch 18/20\n",
      "50000/50000 [==============================] - 46s 925us/step - loss: 0.3610 - accuracy: 0.8750 - val_loss: 0.7176 - val_accuracy: 0.7927\n",
      "Epoch 19/20\n",
      "50000/50000 [==============================] - 46s 916us/step - loss: 0.3584 - accuracy: 0.8780 - val_loss: 0.7288 - val_accuracy: 0.7924\n",
      "Epoch 20/20\n",
      "50000/50000 [==============================] - 46s 912us/step - loss: 0.3574 - accuracy: 0.8777 - val_loss: 0.7196 - val_accuracy: 0.7885\n"
     ]
    }
   ],
   "source": [
    "# 是否要做資料處理\n",
    "if not data_augmentation:\n",
    "    print('Not using data augmentation.')\n",
    "    history=model.fit(x_train, y_train,\n",
    "              batch_size=batch_size,\n",
    "              epochs=epochs,\n",
    "              validation_data=(x_test, y_test),\n",
    "              shuffle=True)\n",
    "else:\n",
    "    print('Using real-time data augmentation.')\n",
    "    print('')\n",
    "        \n",
    "    # This will do preprocessing and realtime data augmentation:\n",
    "    datagen = ImageDataGenerator(\n",
    "        featurewise_center=False,  # set input mean to 0 over the dataset\n",
    "        samplewise_center=False,  # set each sample mean to 0\n",
    "        featurewise_std_normalization=False,  # divide inputs by std of the dataset\n",
    "        samplewise_std_normalization=False,  # divide each input by its std\n",
    "        zca_whitening=False,  # apply ZCA whitening\n",
    "        zca_epsilon=1e-06,  # epsilon for ZCA whitening\n",
    "        rotation_range=0,  # randomly rotate images in the range (degrees, 0 to 180)\n",
    "        # randomly shift images horizontally (fraction of total width)\n",
    "        width_shift_range=0.1,\n",
    "        # randomly shift images vertically (fraction of total height)\n",
    "        height_shift_range=0.1,\n",
    "        shear_range=0.,  # set range for random shear\n",
    "        zoom_range=0.,  # set range for random zoom\n",
    "        channel_shift_range=0.,  # set range for random channel shifts\n",
    "        # set mode for filling points outside the input boundaries\n",
    "        fill_mode='nearest',\n",
    "        cval=0.,  # value used for fill_mode = \"constant\"\n",
    "        horizontal_flip=True,  # randomly flip images\n",
    "        vertical_flip=False,  # randomly flip images\n",
    "        # set rescaling factor (applied before any other transformation)\n",
    "        rescale=None,\n",
    "        # set function that will be applied on each input\n",
    "        preprocessing_function=None,\n",
    "        # image data format, either \"channels_first\" or \"channels_last\"\n",
    "        data_format=None,\n",
    "        # fraction of images reserved for validation (strictly between 0 and 1)\n",
    "        validation_split=0.0)\n",
    "\n",
    "    # Compute quantities required for feature-wise normalization\n",
    "    # (std, mean, and principal components if ZCA whitening is applied).\n",
    "    datagen.fit(x_train)\n",
    "    history=model.fit(x_train, y_train,\n",
    "              batch_size=batch_size,\n",
    "              epochs=epochs,\n",
    "              validation_data=(x_test, y_test),\n",
    "              shuffle=True)   \n"
   ]
  },
  {
   "cell_type": "code",
   "execution_count": 27,
   "metadata": {},
   "outputs": [
    {
     "name": "stdout",
     "output_type": "stream",
     "text": [
      "Saved trained model at E:\\Paul Chi\\School\\《機器學習百日馬拉松》\\04 範例回答\\Day_076_HW\\saved_models\\keras_cifar10_trained_model.h5 \n",
      "10000/10000 [==============================] - 3s 253us/step\n",
      "Test loss: 0.7195695086956024\n",
      "Test accuracy: 0.7885000109672546\n"
     ]
    }
   ],
   "source": [
    "# Save model and weights\n",
    "if not os.path.isdir(save_dir):\n",
    "    os.makedirs(save_dir)\n",
    "model_path = os.path.join(save_dir, model_name)\n",
    "model.save(model_path)\n",
    "print('Saved trained model at %s ' % model_path)\n",
    "\n",
    "# Score trained model.\n",
    "scores = model.evaluate(x_test, y_test, verbose=1)\n",
    "print('Test loss:', scores[0])\n",
    "print('Test accuracy:', scores[1])"
   ]
  },
  {
   "cell_type": "code",
   "execution_count": 28,
   "metadata": {},
   "outputs": [
    {
     "name": "stdout",
     "output_type": "stream",
     "text": [
      " test set \n",
      "\n",
      " The test loss is %f  [0.7195695173740387, 0.7885000109672546]\n",
      "true_num = 7885\n"
     ]
    }
   ],
   "source": [
    "#    第六步：輸出\n",
    "import numpy \n",
    "\n",
    "print ( \" test set \" )\n",
    "scores = model.evaluate(x_test,y_test,batch_size=200,verbose= 0)\n",
    "print ( \"\" )\n",
    "#print ( \" The test loss is %f \" % scores)\n",
    "print ( \" The test loss is %f \", scores)\n",
    "\n",
    "\n",
    "result = model.predict(x_test,batch_size=200,verbose= 0)\n",
    "\n",
    "result_max = numpy.argmax(result, axis = 1 )\n",
    "test_max = numpy.argmax(y_test, axis = 1 )\n",
    "\n",
    "result_bool = numpy.equal(result_max, test_max)\n",
    "true_num = numpy.sum(result_bool)\n",
    "\n",
    "print(f\"true_num = {true_num}\")"
   ]
  },
  {
   "cell_type": "code",
   "execution_count": 29,
   "metadata": {},
   "outputs": [
    {
     "data": {
      "image/png": "[encoded data removed]",
      "text/plain": [
       "<Figure size 432x288 with 1 Axes>"
      ]
     },
     "metadata": {
      "needs_background": "light"
     },
     "output_type": "display_data"
    },
    {
     "data": {
      "image/png": "[encoded data removed]",
      "text/plain": [
       "<Figure size 432x288 with 1 Axes>"
      ]
     },
     "metadata": {
      "needs_background": "light"
     },
     "output_type": "display_data"
    }
   ],
   "source": [
    "import matplotlib.pyplot as plt\n",
    "%matplotlib inline\n",
    "\n",
    "# Plot training & validation accuracy values\n",
    "plt.plot(history.history['accuracy'])\n",
    "plt.plot(history.history['val_accuracy'])\n",
    "plt.title('Model accuracy')\n",
    "plt.ylabel('Accuracy')\n",
    "plt.xlabel('Epoch')\n",
    "plt.legend(['Train', 'Valiidation'], loc='upper left')\n",
    "plt.show()\n",
    "\n",
    "# Plot training & validation loss values\n",
    "plt.plot(history.history['loss'])\n",
    "plt.plot(history.history['val_loss'])\n",
    "plt.title('Model loss')\n",
    "plt.ylabel('Loss')\n",
    "plt.xlabel('Epoch')\n",
    "plt.legend(['Train', 'Valiidation'], loc='upper left')\n",
    "plt.show()"
   ]
  },
  {
   "cell_type": "markdown",
   "metadata": {},
   "source": [
    "# (2)以同一模型, 分別驗證 SGD, Adam, Rmsprop 的 accurancy  \n",
    "  \n",
    "batch_size = 32, epochs = 20  \n",
    "  \n",
    "case 1, model = Adam (refer to above)  \n",
    "Test loss: 0.7195695086956024  \n",
    "Test accuracy: 0.7885000109672546  \n",
    "\n",
    "case 2, model = SGD  \n",
    "Test loss: 0.7366419082641602  \n",
    "Test accuracy: 0.8004000186920166  \n",
    "  \n",
    "case 3, model = RMSProp  \n",
    "Test loss: 1.2613872148513794  \n",
    "Test accuracy: 0.5809999704360962  \n"
   ]
  },
  {
   "cell_type": "code",
   "execution_count": 32,
   "metadata": {},
   "outputs": [
    {
     "data": {
      "text/plain": [
       "'\\nExample:\\nopt = optimizers.SGD(lr=0.01, decay=1e-6, momentum=0.9, nesterov=True)\\n\\n'"
      ]
     },
     "execution_count": 32,
     "metadata": {},
     "output_type": "execute_result"
    }
   ],
   "source": [
    "#第三步編譯\n",
    "'''\n",
    " SGD(隨機梯度下降) - Arguments\n",
    "lr: float >= 0. Learning rate.\n",
    "momentum: float >= 0. Parameter that accelerates SGD in the relevant direction and dampens oscillations.\n",
    "decay: float >= 0. Learning rate decay over each update.\n",
    "nesterov: boolean. Whether to apply Nesterov momentum.\n",
    "'''\n",
    "\n",
    "'''\n",
    "RMSprop- Arguments\n",
    "lr: float >= 0. Learning rate.\n",
    "rho: float >= 0.\n",
    "epsilon: float >= 0. Fuzz factor. If None, defaults to K.epsilon().\n",
    "decay: float >= 0. Learning rate decay over each update.\n",
    "'''\n",
    "\n",
    "'''\n",
    "Example:\n",
    "opt = optimizers.SGD(lr=0.01, decay=1e-6, momentum=0.9, nesterov=True)\n",
    "\n",
    "'''\n",
    "\n"
   ]
  },
  {
   "cell_type": "code",
   "execution_count": 33,
   "metadata": {},
   "outputs": [],
   "source": [
    "# SGD\n",
    "#第三步編譯\n",
    "model.compile(optimizer = 'sgd', loss = 'categorical_crossentropy', metrics = ['accuracy'])\n"
   ]
  },
  {
   "cell_type": "code",
   "execution_count": 34,
   "metadata": {},
   "outputs": [
    {
     "name": "stdout",
     "output_type": "stream",
     "text": [
      "Using real-time data augmentation.\n",
      "\n",
      "Train on 50000 samples, validate on 10000 samples\n",
      "Epoch 1/20\n",
      "50000/50000 [==============================] - 42s 831us/step - loss: 0.4511 - accuracy: 0.8524 - val_loss: 0.7511 - val_accuracy: 0.7838\n",
      "Epoch 2/20\n",
      "50000/50000 [==============================] - 40s 798us/step - loss: 0.3724 - accuracy: 0.8756 - val_loss: 0.7630 - val_accuracy: 0.7925\n",
      "Epoch 3/20\n",
      "50000/50000 [==============================] - 40s 808us/step - loss: 0.3537 - accuracy: 0.8806 - val_loss: 0.7487 - val_accuracy: 0.7869\n",
      "Epoch 4/20\n",
      "50000/50000 [==============================] - 39s 783us/step - loss: 0.3452 - accuracy: 0.8835 - val_loss: 0.8031 - val_accuracy: 0.7811\n",
      "Epoch 5/20\n",
      "50000/50000 [==============================] - 38s 751us/step - loss: 0.3286 - accuracy: 0.8889 - val_loss: 0.7659 - val_accuracy: 0.7943\n",
      "Epoch 6/20\n",
      "50000/50000 [==============================] - 38s 755us/step - loss: 0.3198 - accuracy: 0.8916 - val_loss: 0.7399 - val_accuracy: 0.8028\n",
      "Epoch 7/20\n",
      "50000/50000 [==============================] - 38s 756us/step - loss: 0.3167 - accuracy: 0.8910 - val_loss: 0.7533 - val_accuracy: 0.7893\n",
      "Epoch 8/20\n",
      "50000/50000 [==============================] - 38s 758us/step - loss: 0.3105 - accuracy: 0.8933 - val_loss: 0.7658 - val_accuracy: 0.7927\n",
      "Epoch 9/20\n",
      "50000/50000 [==============================] - 37s 748us/step - loss: 0.2982 - accuracy: 0.8967 - val_loss: 0.7673 - val_accuracy: 0.7942\n",
      "Epoch 10/20\n",
      "50000/50000 [==============================] - 38s 757us/step - loss: 0.3048 - accuracy: 0.8972 - val_loss: 0.7512 - val_accuracy: 0.7881\n",
      "Epoch 11/20\n",
      "50000/50000 [==============================] - 39s 783us/step - loss: 0.3002 - accuracy: 0.8985 - val_loss: 0.7581 - val_accuracy: 0.8006\n",
      "Epoch 12/20\n",
      "50000/50000 [==============================] - 40s 795us/step - loss: 0.2909 - accuracy: 0.9007 - val_loss: 0.7379 - val_accuracy: 0.7994\n",
      "Epoch 13/20\n",
      "50000/50000 [==============================] - 37s 745us/step - loss: 0.2902 - accuracy: 0.9006 - val_loss: 0.7675 - val_accuracy: 0.7980\n",
      "Epoch 14/20\n",
      "50000/50000 [==============================] - 37s 744us/step - loss: 0.2902 - accuracy: 0.9011 - val_loss: 0.7380 - val_accuracy: 0.7971\n",
      "Epoch 15/20\n",
      "50000/50000 [==============================] - 37s 748us/step - loss: 0.2869 - accuracy: 0.9016 - val_loss: 0.7782 - val_accuracy: 0.7901\n",
      "Epoch 16/20\n",
      "50000/50000 [==============================] - 37s 747us/step - loss: 0.2793 - accuracy: 0.9027 - val_loss: 0.7586 - val_accuracy: 0.7932\n",
      "Epoch 17/20\n",
      "50000/50000 [==============================] - 37s 741us/step - loss: 0.2786 - accuracy: 0.9044 - val_loss: 0.7627 - val_accuracy: 0.7982\n",
      "Epoch 18/20\n",
      "50000/50000 [==============================] - 37s 749us/step - loss: 0.2766 - accuracy: 0.9051 - val_loss: 0.7511 - val_accuracy: 0.7960\n",
      "Epoch 19/20\n",
      "50000/50000 [==============================] - 38s 750us/step - loss: 0.2870 - accuracy: 0.9015 - val_loss: 0.7830 - val_accuracy: 0.7943\n",
      "Epoch 20/20\n",
      "50000/50000 [==============================] - 38s 756us/step - loss: 0.2761 - accuracy: 0.9046 - val_loss: 0.7366 - val_accuracy: 0.8004\n"
     ]
    }
   ],
   "source": [
    "# 是否要做資料處理\n",
    "if not data_augmentation:\n",
    "    print('Not using data augmentation.')\n",
    "    history=model.fit(x_train, y_train,\n",
    "              batch_size=batch_size,\n",
    "              epochs=epochs,\n",
    "              validation_data=(x_test, y_test),\n",
    "              shuffle=True)\n",
    "else:\n",
    "    print('Using real-time data augmentation.')\n",
    "    print('')\n",
    "        \n",
    "    # This will do preprocessing and realtime data augmentation:\n",
    "    datagen = ImageDataGenerator(\n",
    "        featurewise_center=False,  # set input mean to 0 over the dataset\n",
    "        samplewise_center=False,  # set each sample mean to 0\n",
    "        featurewise_std_normalization=False,  # divide inputs by std of the dataset\n",
    "        samplewise_std_normalization=False,  # divide each input by its std\n",
    "        zca_whitening=False,  # apply ZCA whitening\n",
    "        zca_epsilon=1e-06,  # epsilon for ZCA whitening\n",
    "        rotation_range=0,  # randomly rotate images in the range (degrees, 0 to 180)\n",
    "        # randomly shift images horizontally (fraction of total width)\n",
    "        width_shift_range=0.1,\n",
    "        # randomly shift images vertically (fraction of total height)\n",
    "        height_shift_range=0.1,\n",
    "        shear_range=0.,  # set range for random shear\n",
    "        zoom_range=0.,  # set range for random zoom\n",
    "        channel_shift_range=0.,  # set range for random channel shifts\n",
    "        # set mode for filling points outside the input boundaries\n",
    "        fill_mode='nearest',\n",
    "        cval=0.,  # value used for fill_mode = \"constant\"\n",
    "        horizontal_flip=True,  # randomly flip images\n",
    "        vertical_flip=False,  # randomly flip images\n",
    "        # set rescaling factor (applied before any other transformation)\n",
    "        rescale=None,\n",
    "        # set function that will be applied on each input\n",
    "        preprocessing_function=None,\n",
    "        # image data format, either \"channels_first\" or \"channels_last\"\n",
    "        data_format=None,\n",
    "        # fraction of images reserved for validation (strictly between 0 and 1)\n",
    "        validation_split=0.0)\n",
    "\n",
    "    # Compute quantities required for feature-wise normalization\n",
    "    # (std, mean, and principal components if ZCA whitening is applied).\n",
    "    datagen.fit(x_train)\n",
    "    history=model.fit(x_train, y_train,\n",
    "              batch_size=batch_size,\n",
    "              epochs=epochs,\n",
    "              validation_data=(x_test, y_test),\n",
    "              shuffle=True)   \n"
   ]
  },
  {
   "cell_type": "code",
   "execution_count": 35,
   "metadata": {},
   "outputs": [
    {
     "name": "stdout",
     "output_type": "stream",
     "text": [
      "Saved trained model at E:\\Paul Chi\\School\\《機器學習百日馬拉松》\\04 範例回答\\Day_076_HW\\saved_models\\keras_cifar10_trained_model.h5 \n",
      "10000/10000 [==============================] - 3s 281us/step\n",
      "Test loss: 0.7366419082641602\n",
      "Test accuracy: 0.8004000186920166\n"
     ]
    }
   ],
   "source": [
    "# Save model and weights\n",
    "if not os.path.isdir(save_dir):\n",
    "    os.makedirs(save_dir)\n",
    "model_path = os.path.join(save_dir, model_name)\n",
    "model.save(model_path)\n",
    "print('Saved trained model at %s ' % model_path)\n",
    "\n",
    "# Score trained model.\n",
    "scores = model.evaluate(x_test, y_test, verbose=1)\n",
    "print('Test loss:', scores[0])\n",
    "print('Test accuracy:', scores[1])"
   ]
  },
  {
   "cell_type": "code",
   "execution_count": 36,
   "metadata": {},
   "outputs": [
    {
     "name": "stdout",
     "output_type": "stream",
     "text": [
      " test set \n",
      "\n",
      " The test loss is %f  [0.736641892194748, 0.8004000186920166]\n"
     ]
    }
   ],
   "source": [
    "#    第六步：輸出\n",
    "import numpy \n",
    "\n",
    "print ( \" test set \" )\n",
    "scores = model.evaluate(x_test,y_test,batch_size=200,verbose= 0)\n",
    "print ( \"\" )\n",
    "#print ( \" The test loss is %f \" % scores)\n",
    "print ( \" The test loss is %f \", scores)\n",
    "\n",
    "\n",
    "result = model.predict(x_test,batch_size=200,verbose= 0)\n",
    "\n",
    "result_max = numpy.argmax(result, axis = 1 )\n",
    "test_max = numpy.argmax(y_test, axis = 1 )\n",
    "\n",
    "result_bool = numpy.equal(result_max, test_max)\n",
    "true_num = numpy.sum(result_bool)\n"
   ]
  },
  {
   "cell_type": "code",
   "execution_count": 37,
   "metadata": {},
   "outputs": [
    {
     "data": {
      "image/png": "[encoded data removed]",
      "text/plain": [
       "<Figure size 432x288 with 1 Axes>"
      ]
     },
     "metadata": {
      "needs_background": "light"
     },
     "output_type": "display_data"
    },
    {
     "data": {
      "image/png": "[encoded data removed]",
      "text/plain": [
       "<Figure size 432x288 with 1 Axes>"
      ]
     },
     "metadata": {
      "needs_background": "light"
     },
     "output_type": "display_data"
    }
   ],
   "source": [
    "import matplotlib.pyplot as plt\n",
    "%matplotlib inline\n",
    "\n",
    "# Plot training & validation accuracy values\n",
    "plt.plot(history.history['accuracy'])\n",
    "plt.plot(history.history['val_accuracy'])\n",
    "plt.title('Model accuracy')\n",
    "plt.ylabel('Accuracy')\n",
    "plt.xlabel('Epoch')\n",
    "plt.legend(['Train', 'Valiidation'], loc='upper left')\n",
    "plt.show()\n",
    "\n",
    "# Plot training & validation loss values\n",
    "plt.plot(history.history['loss'])\n",
    "plt.plot(history.history['val_loss'])\n",
    "plt.title('Model loss')\n",
    "plt.ylabel('Loss')\n",
    "plt.xlabel('Epoch')\n",
    "plt.legend(['Train', 'Valiidation'], loc='upper left')\n",
    "plt.show()"
   ]
  },
  {
   "cell_type": "code",
   "execution_count": 38,
   "metadata": {},
   "outputs": [],
   "source": [
    "# RMSProp\n",
    "#第三步編譯\n",
    "model.compile(optimizer = 'rmsprop', loss = 'categorical_crossentropy', metrics = ['accuracy'])\n"
   ]
  },
  {
   "cell_type": "code",
   "execution_count": 39,
   "metadata": {},
   "outputs": [
    {
     "name": "stdout",
     "output_type": "stream",
     "text": [
      "Using real-time data augmentation.\n",
      "\n",
      "Train on 50000 samples, validate on 10000 samples\n",
      "Epoch 1/20\n",
      "50000/50000 [==============================] - 43s 869us/step - loss: 0.3696 - accuracy: 0.8856 - val_loss: 0.9424 - val_accuracy: 0.7931\n",
      "Epoch 2/20\n",
      "50000/50000 [==============================] - 43s 859us/step - loss: 0.4557 - accuracy: 0.8604 - val_loss: 0.9148 - val_accuracy: 0.7874\n",
      "Epoch 3/20\n",
      "50000/50000 [==============================] - 43s 860us/step - loss: 0.5160 - accuracy: 0.8430 - val_loss: 0.9080 - val_accuracy: 0.7830\n",
      "Epoch 4/20\n",
      "50000/50000 [==============================] - 43s 859us/step - loss: 0.6069 - accuracy: 0.8148 - val_loss: 0.8630 - val_accuracy: 0.7796\n",
      "Epoch 5/20\n",
      "50000/50000 [==============================] - 43s 859us/step - loss: 0.6767 - accuracy: 0.7932 - val_loss: 0.8292 - val_accuracy: 0.7704\n",
      "Epoch 6/20\n",
      "50000/50000 [==============================] - 43s 862us/step - loss: 0.7763 - accuracy: 0.7649 - val_loss: 0.8175 - val_accuracy: 0.7621\n",
      "Epoch 7/20\n",
      "50000/50000 [==============================] - 43s 856us/step - loss: 0.8676 - accuracy: 0.7371 - val_loss: 0.9041 - val_accuracy: 0.7149\n",
      "Epoch 8/20\n",
      "50000/50000 [==============================] - 44s 887us/step - loss: 0.9659 - accuracy: 0.7114 - val_loss: 1.0566 - val_accuracy: 0.6637\n",
      "Epoch 9/20\n",
      "50000/50000 [==============================] - 44s 885us/step - loss: 1.0620 - accuracy: 0.6782 - val_loss: 0.9246 - val_accuracy: 0.7045\n",
      "Epoch 10/20\n",
      "50000/50000 [==============================] - 44s 873us/step - loss: 1.1174 - accuracy: 0.6585 - val_loss: 1.0313 - val_accuracy: 0.6712\n",
      "Epoch 11/20\n",
      "50000/50000 [==============================] - 44s 878us/step - loss: 1.1660 - accuracy: 0.6377 - val_loss: 1.0511 - val_accuracy: 0.6657\n",
      "Epoch 12/20\n",
      "50000/50000 [==============================] - 44s 879us/step - loss: 1.2233 - accuracy: 0.6191 - val_loss: 1.1153 - val_accuracy: 0.6205\n",
      "Epoch 13/20\n",
      "50000/50000 [==============================] - 44s 884us/step - loss: 1.2564 - accuracy: 0.6054 - val_loss: 1.2145 - val_accuracy: 0.5846\n",
      "Epoch 14/20\n",
      "50000/50000 [==============================] - 45s 893us/step - loss: 1.2933 - accuracy: 0.5945 - val_loss: 1.1726 - val_accuracy: 0.6184\n",
      "Epoch 15/20\n",
      "50000/50000 [==============================] - 45s 906us/step - loss: 1.3370 - accuracy: 0.5785 - val_loss: 1.2011 - val_accuracy: 0.5933\n",
      "Epoch 16/20\n",
      "50000/50000 [==============================] - 44s 881us/step - loss: 1.3673 - accuracy: 0.5646 - val_loss: 1.2886 - val_accuracy: 0.5699\n",
      "Epoch 17/20\n",
      "50000/50000 [==============================] - 44s 877us/step - loss: 1.3989 - accuracy: 0.5523 - val_loss: 1.5442 - val_accuracy: 0.5254\n",
      "Epoch 18/20\n",
      "50000/50000 [==============================] - 44s 877us/step - loss: 1.4243 - accuracy: 0.5433 - val_loss: 1.2830 - val_accuracy: 0.5717\n",
      "Epoch 19/20\n",
      "50000/50000 [==============================] - 45s 894us/step - loss: 1.4636 - accuracy: 0.5318 - val_loss: 1.3619 - val_accuracy: 0.5486\n",
      "Epoch 20/20\n",
      "50000/50000 [==============================] - 44s 873us/step - loss: 1.4650 - accuracy: 0.5253 - val_loss: 1.2614 - val_accuracy: 0.5810\n"
     ]
    }
   ],
   "source": [
    "# 是否要做資料處理\n",
    "if not data_augmentation:\n",
    "    print('Not using data augmentation.')\n",
    "    history=model.fit(x_train, y_train,\n",
    "              batch_size=batch_size,\n",
    "              epochs=epochs,\n",
    "              validation_data=(x_test, y_test),\n",
    "              shuffle=True)\n",
    "else:\n",
    "    print('Using real-time data augmentation.')\n",
    "    print('')\n",
    "        \n",
    "    # This will do preprocessing and realtime data augmentation:\n",
    "    datagen = ImageDataGenerator(\n",
    "        featurewise_center=False,  # set input mean to 0 over the dataset\n",
    "        samplewise_center=False,  # set each sample mean to 0\n",
    "        featurewise_std_normalization=False,  # divide inputs by std of the dataset\n",
    "        samplewise_std_normalization=False,  # divide each input by its std\n",
    "        zca_whitening=False,  # apply ZCA whitening\n",
    "        zca_epsilon=1e-06,  # epsilon for ZCA whitening\n",
    "        rotation_range=0,  # randomly rotate images in the range (degrees, 0 to 180)\n",
    "        # randomly shift images horizontally (fraction of total width)\n",
    "        width_shift_range=0.1,\n",
    "        # randomly shift images vertically (fraction of total height)\n",
    "        height_shift_range=0.1,\n",
    "        shear_range=0.,  # set range for random shear\n",
    "        zoom_range=0.,  # set range for random zoom\n",
    "        channel_shift_range=0.,  # set range for random channel shifts\n",
    "        # set mode for filling points outside the input boundaries\n",
    "        fill_mode='nearest',\n",
    "        cval=0.,  # value used for fill_mode = \"constant\"\n",
    "        horizontal_flip=True,  # randomly flip images\n",
    "        vertical_flip=False,  # randomly flip images\n",
    "        # set rescaling factor (applied before any other transformation)\n",
    "        rescale=None,\n",
    "        # set function that will be applied on each input\n",
    "        preprocessing_function=None,\n",
    "        # image data format, either \"channels_first\" or \"channels_last\"\n",
    "        data_format=None,\n",
    "        # fraction of images reserved for validation (strictly between 0 and 1)\n",
    "        validation_split=0.0)\n",
    "\n",
    "    # Compute quantities required for feature-wise normalization\n",
    "    # (std, mean, and principal components if ZCA whitening is applied).\n",
    "    datagen.fit(x_train)\n",
    "    history=model.fit(x_train, y_train,\n",
    "              batch_size=batch_size,\n",
    "              epochs=epochs,\n",
    "              validation_data=(x_test, y_test),\n",
    "              shuffle=True)   \n"
   ]
  },
  {
   "cell_type": "code",
   "execution_count": 40,
   "metadata": {},
   "outputs": [
    {
     "name": "stdout",
     "output_type": "stream",
     "text": [
      "Saved trained model at E:\\Paul Chi\\School\\《機器學習百日馬拉松》\\04 範例回答\\Day_076_HW\\saved_models\\keras_cifar10_trained_model.h5 \n",
      "10000/10000 [==============================] - 3s 286us/step\n",
      "Test loss: 1.2613872148513794\n",
      "Test accuracy: 0.5809999704360962\n"
     ]
    }
   ],
   "source": [
    "# Save model and weights\n",
    "if not os.path.isdir(save_dir):\n",
    "    os.makedirs(save_dir)\n",
    "model_path = os.path.join(save_dir, model_name)\n",
    "model.save(model_path)\n",
    "print('Saved trained model at %s ' % model_path)\n",
    "\n",
    "# Score trained model.\n",
    "scores = model.evaluate(x_test, y_test, verbose=1)\n",
    "print('Test loss:', scores[0])\n",
    "print('Test accuracy:', scores[1])"
   ]
  },
  {
   "cell_type": "code",
   "execution_count": 41,
   "metadata": {},
   "outputs": [
    {
     "name": "stdout",
     "output_type": "stream",
     "text": [
      " test set \n",
      "\n",
      " The test loss is %f  [1.261387197971344, 0.5809999704360962]\n"
     ]
    }
   ],
   "source": [
    "#    第六步：輸出\n",
    "import numpy \n",
    "\n",
    "print ( \" test set \" )\n",
    "scores = model.evaluate(x_test,y_test,batch_size=200,verbose= 0)\n",
    "print ( \"\" )\n",
    "#print ( \" The test loss is %f \" % scores)\n",
    "print ( \" The test loss is %f \", scores)\n",
    "\n",
    "\n",
    "result = model.predict(x_test,batch_size=200,verbose= 0)\n",
    "\n",
    "result_max = numpy.argmax(result, axis = 1 )\n",
    "test_max = numpy.argmax(y_test, axis = 1 )\n",
    "\n",
    "result_bool = numpy.equal(result_max, test_max)\n",
    "true_num = numpy.sum(result_bool)\n"
   ]
  },
  {
   "cell_type": "code",
   "execution_count": 42,
   "metadata": {},
   "outputs": [
    {
     "data": {
      "image/png": "[encoded data removed]",
      "text/plain": [
       "<Figure size 432x288 with 1 Axes>"
      ]
     },
     "metadata": {
      "needs_background": "light"
     },
     "output_type": "display_data"
    },
    {
     "data": {
      "image/png": "[encoded data removed]",
      "text/plain": [
       "<Figure size 432x288 with 1 Axes>"
      ]
     },
     "metadata": {
      "needs_background": "light"
     },
     "output_type": "display_data"
    }
   ],
   "source": [
    "import matplotlib.pyplot as plt\n",
    "%matplotlib inline\n",
    "\n",
    "# Plot training & validation accuracy values\n",
    "plt.plot(history.history['accuracy'])\n",
    "plt.plot(history.history['val_accuracy'])\n",
    "plt.title('Model accuracy')\n",
    "plt.ylabel('Accuracy')\n",
    "plt.xlabel('Epoch')\n",
    "plt.legend(['Train', 'Valiidation'], loc='upper left')\n",
    "plt.show()\n",
    "\n",
    "# Plot training & validation loss values\n",
    "plt.plot(history.history['loss'])\n",
    "plt.plot(history.history['val_loss'])\n",
    "plt.title('Model loss')\n",
    "plt.ylabel('Loss')\n",
    "plt.xlabel('Epoch')\n",
    "plt.legend(['Train', 'Valiidation'], loc='upper left')\n",
    "plt.show()"
   ]
  },
  {
   "cell_type": "code",
   "execution_count": null,
   "metadata": {},
   "outputs": [],
   "source": []
  }
 ],
 "metadata": {
  "kernelspec": {
   "display_name": "Python 3",
   "language": "python",
   "name": "python3"
  },
  "language_info": {
   "codemirror_mode": {
    "name": "ipython",
    "version": 3
   },
   "file_extension": ".py",
   "mimetype": "text/x-python",
   "name": "python",
   "nbconvert_exporter": "python",
   "pygments_lexer": "ipython3",
   "version": "3.7.3"
  }
 },
 "nbformat": 4,
 "nbformat_minor": 2
}
