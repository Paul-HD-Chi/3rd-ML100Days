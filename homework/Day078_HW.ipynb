{
 "cells": [
  {
   "cell_type": "markdown",
   "metadata": {},
   "source": [
    "## Work\n",
    "1. 請嘗試將 preproc_x 替換成以每筆資料的 min/max 進行標準化至 -1 ~ 1 間，再進行訓練\n",
    "2. 請嘗試將 mlp 疊更深 (e.g 5~10 層)，進行訓練後觀察 learning curve 的走勢\n",
    "3. (optional) 請改用 GPU 進行訓練 (如果你有 GPU 的話)，比較使用 CPU 與 GPU 的訓練速度"
   ]
  },
  {
   "cell_type": "code",
   "execution_count": 1,
   "metadata": {},
   "outputs": [
    {
     "name": "stdout",
     "output_type": "stream",
     "text": [
      "Tue Dec 03 23:22:11 2019       \n",
      "+-----------------------------------------------------------------------------+\n",
      "| NVIDIA-SMI 441.20       Driver Version: 441.20       CUDA Version: 10.2     |\n",
      "|-------------------------------+----------------------+----------------------+\n",
      "| GPU  Name            TCC/WDDM | Bus-Id        Disp.A | Volatile Uncorr. ECC |\n",
      "| Fan  Temp  Perf  Pwr:Usage/Cap|         Memory-Usage | GPU-Util  Compute M. |\n",
      "|===============================+======================+======================|\n",
      "|   0  GeForce 940MX      WDDM  | 00000000:01:00.0 Off |                  N/A |\n",
      "| N/A   30C    P8    N/A /  N/A |   1551MiB /  2048MiB |      0%      Default |\n",
      "+-------------------------------+----------------------+----------------------+\n",
      "                                                                               \n",
      "+-----------------------------------------------------------------------------+\n",
      "| Processes:                                                       GPU Memory |\n",
      "|  GPU       PID   Type   Process name                             Usage      |\n",
      "|=============================================================================|\n",
      "|    0      7516      C   C:\\ProgramData\\Anaconda3\\python.exe        N/A      |\n",
      "+-----------------------------------------------------------------------------+\n"
     ]
    }
   ],
   "source": [
    "## \n",
    "\"\"\"\n",
    "Your code here (optional)\n",
    "確認硬體資源\n",
    "\"\"\"\n",
    "!C:\\Program Files\\NVIDIA Corporation\\NVSMI\\nvidia-smi.exe"
   ]
  },
  {
   "cell_type": "code",
   "execution_count": 2,
   "metadata": {},
   "outputs": [
    {
     "name": "stderr",
     "output_type": "stream",
     "text": [
      "Using TensorFlow backend.\n"
     ]
    }
   ],
   "source": [
    "import os\n",
    "import keras\n",
    "\n",
    "# 請嘗試設定 GPU：os.environ\n",
    "os.environ[\"CUDA_VISIBLE_DEVICES\"] = \"None\"    # no GPU supported"
   ]
  },
  {
   "cell_type": "code",
   "execution_count": 3,
   "metadata": {},
   "outputs": [],
   "source": [
    "train, test = keras.datasets.cifar10.load_data()"
   ]
  },
  {
   "cell_type": "markdown",
   "metadata": {},
   "source": [
    "#1. 請嘗試將 preproc_x 替換成以每筆資料的 min/max 進行標準化至 -1 ~ 1 間  "
   ]
  },
  {
   "cell_type": "code",
   "execution_count": 4,
   "metadata": {},
   "outputs": [],
   "source": [
    "## 資料前處理\n",
    "\"\"\"\n",
    "Your code here\n",
    "\"\"\"\n",
    "def preproc_x(x, flatten=True):\n",
    "    x = (x / 255.) * 2 - 1\n",
    "    if flatten:\n",
    "        x = x.reshape((len(x), -1))\n",
    "    return x\n",
    "\n",
    "def preproc_y(y, num_classes=10):\n",
    "    if y.shape[-1] == 1:\n",
    "        y = keras.utils.to_categorical(y, num_classes)\n",
    "    return y"
   ]
  },
  {
   "cell_type": "code",
   "execution_count": 5,
   "metadata": {},
   "outputs": [],
   "source": [
    "x_train, y_train = train\n",
    "x_test, y_test = test\n",
    "\n",
    "# Preproc the inputs\n",
    "x_train = preproc_x(x_train)\n",
    "x_test = preproc_x(x_test)\n",
    "\n",
    "# Preprc the outputs\n",
    "y_train = preproc_y(y_train)\n",
    "y_test = preproc_y(y_test)"
   ]
  },
  {
   "cell_type": "markdown",
   "metadata": {},
   "source": [
    "#2. 請嘗試將 mlp 疊更深 (e.g 5~10 層)，進行訓練後觀察 learning curve 的走勢"
   ]
  },
  {
   "cell_type": "code",
   "execution_count": 6,
   "metadata": {},
   "outputs": [
    {
     "name": "stdout",
     "output_type": "stream",
     "text": [
      "Model: \"model_1\"\n",
      "_________________________________________________________________\n",
      "Layer (type)                 Output Shape              Param #   \n",
      "=================================================================\n",
      "input_1 (InputLayer)         (None, 3072)              0         \n",
      "_________________________________________________________________\n",
      "hidden_layer1 (Dense)        (None, 512)               1573376   \n",
      "_________________________________________________________________\n",
      "hidden_layer2 (Dense)        (None, 256)               131328    \n",
      "_________________________________________________________________\n",
      "hidden_layer3 (Dense)        (None, 128)               32896     \n",
      "_________________________________________________________________\n",
      "hidden_layer4 (Dense)        (None, 64)                8256      \n",
      "_________________________________________________________________\n",
      "hidden_layer5 (Dense)        (None, 64)                4160      \n",
      "_________________________________________________________________\n",
      "hidden_layer6 (Dense)        (None, 32)                2080      \n",
      "_________________________________________________________________\n",
      "hidden_layer7 (Dense)        (None, 32)                1056      \n",
      "_________________________________________________________________\n",
      "output (Dense)               (None, 10)                330       \n",
      "=================================================================\n",
      "Total params: 1,753,482\n",
      "Trainable params: 1,753,482\n",
      "Non-trainable params: 0\n",
      "_________________________________________________________________\n"
     ]
    }
   ],
   "source": [
    "\"\"\"Code Here\n",
    "建立你的神經網路\n",
    "\"\"\"\n",
    "def build_mlp(input_shape, output_units=10, num_neurons=[512, 256, 128, 64, 64, 32, 32]):\n",
    "    input_layer = keras.layers.Input(input_shape)\n",
    "    \n",
    "    for i, n_units in enumerate(num_neurons):\n",
    "        if i == 0:\n",
    "            x = keras.layers.Dense(units=n_units, activation=\"relu\", name=\"hidden_layer\"+str(i+1))(input_layer)\n",
    "        else:\n",
    "            x = keras.layers.Dense(units=n_units, activation=\"relu\", name=\"hidden_layer\"+str(i+1))(x)\n",
    "    \n",
    "    out = keras.layers.Dense(units=output_units, activation=\"softmax\", name=\"output\")(x)\n",
    "    \n",
    "    model = keras.models.Model(inputs=[input_layer], outputs=[out])\n",
    "    return model\n",
    "\n",
    "model = build_mlp(input_shape=x_train.shape[1:])\n",
    "model.summary()"
   ]
  },
  {
   "cell_type": "code",
   "execution_count": 7,
   "metadata": {},
   "outputs": [],
   "source": [
    "## 超參數設定\n",
    "LEARNING_RATE = 0.001\n",
    "EPOCHS = 100\n",
    "BATCH_SIZE = 256"
   ]
  },
  {
   "cell_type": "code",
   "execution_count": 8,
   "metadata": {},
   "outputs": [],
   "source": [
    "optimizer = keras.optimizers.Adam(lr=LEARNING_RATE)\n",
    "model.compile(loss=\"categorical_crossentropy\", metrics=[\"accuracy\"], optimizer=optimizer)"
   ]
  },
  {
   "cell_type": "code",
   "execution_count": 9,
   "metadata": {},
   "outputs": [
    {
     "name": "stdout",
     "output_type": "stream",
     "text": [
      "Train on 50000 samples, validate on 10000 samples\n",
      "Epoch 1/100\n",
      "50000/50000 [==============================] - 12s 230us/step - loss: 1.7851 - accuracy: 0.3632 - val_loss: 1.5833 - val_accuracy: 0.4359\n",
      "Epoch 2/100\n",
      "50000/50000 [==============================] - 11s 214us/step - loss: 1.5185 - accuracy: 0.4608 - val_loss: 1.4669 - val_accuracy: 0.4812\n",
      "Epoch 3/100\n",
      "50000/50000 [==============================] - 11s 214us/step - loss: 1.3972 - accuracy: 0.5054 - val_loss: 1.4244 - val_accuracy: 0.4977\n",
      "Epoch 4/100\n",
      "50000/50000 [==============================] - 11s 224us/step - loss: 1.2946 - accuracy: 0.5425 - val_loss: 1.3918 - val_accuracy: 0.5129\n",
      "Epoch 5/100\n",
      "50000/50000 [==============================] - 11s 216us/step - loss: 1.2146 - accuracy: 0.5711 - val_loss: 1.3832 - val_accuracy: 0.5200\n",
      "Epoch 6/100\n",
      "50000/50000 [==============================] - 11s 227us/step - loss: 1.1370 - accuracy: 0.5991 - val_loss: 1.3862 - val_accuracy: 0.5287\n",
      "Epoch 7/100\n",
      "50000/50000 [==============================] - 11s 228us/step - loss: 1.0660 - accuracy: 0.6235 - val_loss: 1.3698 - val_accuracy: 0.5362\n",
      "Epoch 8/100\n",
      "50000/50000 [==============================] - 11s 228us/step - loss: 0.9946 - accuracy: 0.6500 - val_loss: 1.3849 - val_accuracy: 0.5407\n",
      "Epoch 9/100\n",
      "50000/50000 [==============================] - 11s 228us/step - loss: 0.9292 - accuracy: 0.6697 - val_loss: 1.4092 - val_accuracy: 0.5279\n",
      "Epoch 10/100\n",
      "50000/50000 [==============================] - 11s 227us/step - loss: 0.8589 - accuracy: 0.6949 - val_loss: 1.5032 - val_accuracy: 0.5267\n",
      "Epoch 11/100\n",
      "50000/50000 [==============================] - 11s 227us/step - loss: 0.8036 - accuracy: 0.7146 - val_loss: 1.4714 - val_accuracy: 0.5369\n",
      "Epoch 12/100\n",
      "50000/50000 [==============================] - 11s 229us/step - loss: 0.7431 - accuracy: 0.7362 - val_loss: 1.5353 - val_accuracy: 0.5343\n",
      "Epoch 13/100\n",
      "50000/50000 [==============================] - 12s 230us/step - loss: 0.6852 - accuracy: 0.7557 - val_loss: 1.5856 - val_accuracy: 0.5413\n",
      "Epoch 14/100\n",
      "50000/50000 [==============================] - 11s 228us/step - loss: 0.6346 - accuracy: 0.7752 - val_loss: 1.6294 - val_accuracy: 0.5363\n",
      "Epoch 15/100\n",
      "50000/50000 [==============================] - 12s 234us/step - loss: 0.5902 - accuracy: 0.7898 - val_loss: 1.7186 - val_accuracy: 0.5339\n",
      "Epoch 16/100\n",
      "50000/50000 [==============================] - 11s 228us/step - loss: 0.5479 - accuracy: 0.8052 - val_loss: 1.8061 - val_accuracy: 0.5424\n",
      "Epoch 17/100\n",
      "50000/50000 [==============================] - 11s 228us/step - loss: 0.5027 - accuracy: 0.8207 - val_loss: 1.8457 - val_accuracy: 0.5329\n",
      "Epoch 18/100\n",
      "50000/50000 [==============================] - 11s 229us/step - loss: 0.4614 - accuracy: 0.8356 - val_loss: 1.8997 - val_accuracy: 0.5315\n",
      "Epoch 19/100\n",
      "50000/50000 [==============================] - 11s 228us/step - loss: 0.4213 - accuracy: 0.8493 - val_loss: 2.0462 - val_accuracy: 0.5303\n",
      "Epoch 20/100\n",
      "50000/50000 [==============================] - 11s 229us/step - loss: 0.4011 - accuracy: 0.8588 - val_loss: 2.0686 - val_accuracy: 0.5317\n",
      "Epoch 21/100\n",
      "50000/50000 [==============================] - 11s 229us/step - loss: 0.3778 - accuracy: 0.8666 - val_loss: 2.3298 - val_accuracy: 0.5268\n",
      "Epoch 22/100\n",
      "50000/50000 [==============================] - 11s 227us/step - loss: 0.3462 - accuracy: 0.8786 - val_loss: 2.2747 - val_accuracy: 0.5337\n",
      "Epoch 23/100\n",
      "50000/50000 [==============================] - 11s 230us/step - loss: 0.3223 - accuracy: 0.8874 - val_loss: 2.3350 - val_accuracy: 0.5328\n",
      "Epoch 24/100\n",
      "50000/50000 [==============================] - 11s 228us/step - loss: 0.3192 - accuracy: 0.8896 - val_loss: 2.3810 - val_accuracy: 0.5271\n",
      "Epoch 25/100\n",
      "50000/50000 [==============================] - 12s 231us/step - loss: 0.2874 - accuracy: 0.9007 - val_loss: 2.4534 - val_accuracy: 0.5269\n",
      "Epoch 26/100\n",
      "50000/50000 [==============================] - 11s 226us/step - loss: 0.2755 - accuracy: 0.9028 - val_loss: 2.4892 - val_accuracy: 0.5265\n",
      "Epoch 27/100\n",
      "50000/50000 [==============================] - 11s 228us/step - loss: 0.2646 - accuracy: 0.9079 - val_loss: 2.5876 - val_accuracy: 0.5248\n",
      "Epoch 28/100\n",
      "50000/50000 [==============================] - 12s 231us/step - loss: 0.2515 - accuracy: 0.9118 - val_loss: 2.6231 - val_accuracy: 0.5318\n",
      "Epoch 29/100\n",
      "50000/50000 [==============================] - 11s 228us/step - loss: 0.2356 - accuracy: 0.9187 - val_loss: 2.7961 - val_accuracy: 0.5338\n",
      "Epoch 30/100\n",
      "50000/50000 [==============================] - 12s 234us/step - loss: 0.2276 - accuracy: 0.9205 - val_loss: 2.8246 - val_accuracy: 0.5259\n",
      "Epoch 31/100\n",
      "50000/50000 [==============================] - 11s 229us/step - loss: 0.2234 - accuracy: 0.9234 - val_loss: 2.8054 - val_accuracy: 0.5259\n",
      "Epoch 32/100\n",
      "50000/50000 [==============================] - 11s 230us/step - loss: 0.2095 - accuracy: 0.9279 - val_loss: 2.8684 - val_accuracy: 0.5320\n",
      "Epoch 33/100\n",
      "50000/50000 [==============================] - 11s 230us/step - loss: 0.1967 - accuracy: 0.9326 - val_loss: 2.9724 - val_accuracy: 0.5249\n",
      "Epoch 34/100\n",
      "50000/50000 [==============================] - 12s 232us/step - loss: 0.2009 - accuracy: 0.9314 - val_loss: 3.0344 - val_accuracy: 0.5272\n",
      "Epoch 35/100\n",
      "50000/50000 [==============================] - 12s 233us/step - loss: 0.1828 - accuracy: 0.9374 - val_loss: 3.0180 - val_accuracy: 0.5360\n",
      "Epoch 36/100\n",
      "50000/50000 [==============================] - 12s 239us/step - loss: 0.1904 - accuracy: 0.9348 - val_loss: 3.0060 - val_accuracy: 0.5307\n",
      "Epoch 37/100\n",
      "50000/50000 [==============================] - 12s 232us/step - loss: 0.1761 - accuracy: 0.9397 - val_loss: 3.0577 - val_accuracy: 0.5346\n",
      "Epoch 38/100\n",
      "50000/50000 [==============================] - 12s 233us/step - loss: 0.1730 - accuracy: 0.9410 - val_loss: 2.9747 - val_accuracy: 0.5235\n",
      "Epoch 39/100\n",
      "50000/50000 [==============================] - 12s 233us/step - loss: 0.1654 - accuracy: 0.9441 - val_loss: 3.2714 - val_accuracy: 0.5291\n",
      "Epoch 40/100\n",
      "50000/50000 [==============================] - 12s 234us/step - loss: 0.1509 - accuracy: 0.9495 - val_loss: 3.2878 - val_accuracy: 0.5285\n",
      "Epoch 41/100\n",
      "50000/50000 [==============================] - 12s 235us/step - loss: 0.1605 - accuracy: 0.9447 - val_loss: 3.2543 - val_accuracy: 0.5256\n",
      "Epoch 42/100\n",
      "50000/50000 [==============================] - 12s 234us/step - loss: 0.1600 - accuracy: 0.9455 - val_loss: 3.1397 - val_accuracy: 0.5322\n",
      "Epoch 43/100\n",
      "50000/50000 [==============================] - 12s 232us/step - loss: 0.1432 - accuracy: 0.9519 - val_loss: 3.3269 - val_accuracy: 0.5327\n",
      "Epoch 44/100\n",
      "50000/50000 [==============================] - 12s 233us/step - loss: 0.1300 - accuracy: 0.9556 - val_loss: 3.3132 - val_accuracy: 0.5299\n",
      "Epoch 45/100\n",
      "50000/50000 [==============================] - 12s 248us/step - loss: 0.1376 - accuracy: 0.9535 - val_loss: 3.2252 - val_accuracy: 0.5234\n",
      "Epoch 46/100\n",
      "50000/50000 [==============================] - 12s 234us/step - loss: 0.1346 - accuracy: 0.9545 - val_loss: 3.3390 - val_accuracy: 0.5343\n",
      "Epoch 47/100\n",
      "50000/50000 [==============================] - 12s 233us/step - loss: 0.1197 - accuracy: 0.9600 - val_loss: 3.4314 - val_accuracy: 0.5279\n",
      "Epoch 48/100\n",
      "50000/50000 [==============================] - 12s 232us/step - loss: 0.1457 - accuracy: 0.9517 - val_loss: 3.3667 - val_accuracy: 0.5336\n",
      "Epoch 49/100\n",
      "50000/50000 [==============================] - 12s 233us/step - loss: 0.1193 - accuracy: 0.9605 - val_loss: 3.4894 - val_accuracy: 0.5289\n",
      "Epoch 50/100\n",
      "50000/50000 [==============================] - 12s 233us/step - loss: 0.1275 - accuracy: 0.9570 - val_loss: 3.5100 - val_accuracy: 0.5287\n",
      "Epoch 51/100\n",
      "50000/50000 [==============================] - 12s 238us/step - loss: 0.1087 - accuracy: 0.9629 - val_loss: 3.5574 - val_accuracy: 0.5327\n",
      "Epoch 52/100\n",
      "50000/50000 [==============================] - 12s 233us/step - loss: 0.1430 - accuracy: 0.9519 - val_loss: 3.5005 - val_accuracy: 0.5317\n",
      "Epoch 53/100\n",
      "50000/50000 [==============================] - 12s 234us/step - loss: 0.1242 - accuracy: 0.9576 - val_loss: 3.5322 - val_accuracy: 0.5359\n",
      "Epoch 54/100\n",
      "50000/50000 [==============================] - 12s 236us/step - loss: 0.1086 - accuracy: 0.9634 - val_loss: 3.6311 - val_accuracy: 0.5330\n"
     ]
    },
    {
     "name": "stdout",
     "output_type": "stream",
     "text": [
      "Epoch 55/100\n",
      "50000/50000 [==============================] - 11s 225us/step - loss: 0.1157 - accuracy: 0.9616 - val_loss: 3.5467 - val_accuracy: 0.5264\n",
      "Epoch 56/100\n",
      "50000/50000 [==============================] - 11s 228us/step - loss: 0.1018 - accuracy: 0.9660 - val_loss: 3.5162 - val_accuracy: 0.5307\n",
      "Epoch 57/100\n",
      "50000/50000 [==============================] - 11s 228us/step - loss: 0.1128 - accuracy: 0.9629 - val_loss: 3.5032 - val_accuracy: 0.5297\n",
      "Epoch 58/100\n",
      "50000/50000 [==============================] - 11s 225us/step - loss: 0.1154 - accuracy: 0.9620 - val_loss: 3.4205 - val_accuracy: 0.5306\n",
      "Epoch 59/100\n",
      "50000/50000 [==============================] - 11s 225us/step - loss: 0.1000 - accuracy: 0.9670 - val_loss: 3.7248 - val_accuracy: 0.5275\n",
      "Epoch 60/100\n",
      "50000/50000 [==============================] - 11s 226us/step - loss: 0.0902 - accuracy: 0.9710 - val_loss: 3.5362 - val_accuracy: 0.5268\n",
      "Epoch 61/100\n",
      "50000/50000 [==============================] - 11s 227us/step - loss: 0.1142 - accuracy: 0.9614 - val_loss: 3.5472 - val_accuracy: 0.5218\n",
      "Epoch 62/100\n",
      "50000/50000 [==============================] - 11s 226us/step - loss: 0.1168 - accuracy: 0.9615 - val_loss: 3.6304 - val_accuracy: 0.5334\n",
      "Epoch 63/100\n",
      "50000/50000 [==============================] - 11s 226us/step - loss: 0.0883 - accuracy: 0.9707 - val_loss: 3.8601 - val_accuracy: 0.5297\n",
      "Epoch 64/100\n",
      "50000/50000 [==============================] - 11s 228us/step - loss: 0.0938 - accuracy: 0.9686 - val_loss: 3.7479 - val_accuracy: 0.5288\n",
      "Epoch 65/100\n",
      "50000/50000 [==============================] - 11s 226us/step - loss: 0.1041 - accuracy: 0.9655 - val_loss: 3.6085 - val_accuracy: 0.5268\n",
      "Epoch 66/100\n",
      "50000/50000 [==============================] - 11s 229us/step - loss: 0.0877 - accuracy: 0.9715 - val_loss: 3.7569 - val_accuracy: 0.5269\n",
      "Epoch 67/100\n",
      "50000/50000 [==============================] - 11s 227us/step - loss: 0.0861 - accuracy: 0.9717 - val_loss: 3.7694 - val_accuracy: 0.5299\n",
      "Epoch 68/100\n",
      "50000/50000 [==============================] - 11s 227us/step - loss: 0.0969 - accuracy: 0.9685 - val_loss: 3.7274 - val_accuracy: 0.5264\n",
      "Epoch 69/100\n",
      "50000/50000 [==============================] - 11s 228us/step - loss: 0.0787 - accuracy: 0.9738 - val_loss: 3.8687 - val_accuracy: 0.5250\n",
      "Epoch 70/100\n",
      "50000/50000 [==============================] - 11s 227us/step - loss: 0.0903 - accuracy: 0.9706 - val_loss: 3.6830 - val_accuracy: 0.5254\n",
      "Epoch 71/100\n",
      "50000/50000 [==============================] - 11s 227us/step - loss: 0.0823 - accuracy: 0.9731 - val_loss: 3.8660 - val_accuracy: 0.5336\n",
      "Epoch 72/100\n",
      "50000/50000 [==============================] - 11s 226us/step - loss: 0.0909 - accuracy: 0.9698 - val_loss: 3.8757 - val_accuracy: 0.5297\n",
      "Epoch 73/100\n",
      "50000/50000 [==============================] - 11s 227us/step - loss: 0.0925 - accuracy: 0.9705 - val_loss: 3.5729 - val_accuracy: 0.5315\n",
      "Epoch 74/100\n",
      "50000/50000 [==============================] - 11s 228us/step - loss: 0.1007 - accuracy: 0.9675 - val_loss: 3.7410 - val_accuracy: 0.5347\n",
      "Epoch 75/100\n",
      "50000/50000 [==============================] - 11s 228us/step - loss: 0.0678 - accuracy: 0.9776 - val_loss: 3.8632 - val_accuracy: 0.5347\n",
      "Epoch 76/100\n",
      "50000/50000 [==============================] - 11s 227us/step - loss: 0.0887 - accuracy: 0.9716 - val_loss: 3.6771 - val_accuracy: 0.5317\n",
      "Epoch 77/100\n",
      "50000/50000 [==============================] - 11s 228us/step - loss: 0.0829 - accuracy: 0.9732 - val_loss: 3.8862 - val_accuracy: 0.5310\n",
      "Epoch 78/100\n",
      "50000/50000 [==============================] - 11s 227us/step - loss: 0.0944 - accuracy: 0.9692 - val_loss: 3.5483 - val_accuracy: 0.5352\n",
      "Epoch 79/100\n",
      "50000/50000 [==============================] - 11s 229us/step - loss: 0.0740 - accuracy: 0.9756 - val_loss: 3.8273 - val_accuracy: 0.5253\n",
      "Epoch 80/100\n",
      "50000/50000 [==============================] - 11s 228us/step - loss: 0.0782 - accuracy: 0.9745 - val_loss: 4.0619 - val_accuracy: 0.5327\n",
      "Epoch 81/100\n",
      "50000/50000 [==============================] - 11s 228us/step - loss: 0.0749 - accuracy: 0.9769 - val_loss: 3.8690 - val_accuracy: 0.5160\n",
      "Epoch 82/100\n",
      "50000/50000 [==============================] - 12s 233us/step - loss: 0.0830 - accuracy: 0.9727 - val_loss: 3.8214 - val_accuracy: 0.5319\n",
      "Epoch 83/100\n",
      "50000/50000 [==============================] - 12s 232us/step - loss: 0.0626 - accuracy: 0.9800 - val_loss: 3.9264 - val_accuracy: 0.5301\n",
      "Epoch 84/100\n",
      "50000/50000 [==============================] - 12s 239us/step - loss: 0.0818 - accuracy: 0.9741 - val_loss: 3.7684 - val_accuracy: 0.5303\n",
      "Epoch 85/100\n",
      "50000/50000 [==============================] - 12s 241us/step - loss: 0.0697 - accuracy: 0.9767 - val_loss: 3.9502 - val_accuracy: 0.5284\n",
      "Epoch 86/100\n",
      "50000/50000 [==============================] - 11s 225us/step - loss: 0.0775 - accuracy: 0.9753 - val_loss: 3.9188 - val_accuracy: 0.5245\n",
      "Epoch 87/100\n",
      "50000/50000 [==============================] - 11s 228us/step - loss: 0.0664 - accuracy: 0.9785 - val_loss: 4.0568 - val_accuracy: 0.5223\n",
      "Epoch 88/100\n",
      "50000/50000 [==============================] - 12s 233us/step - loss: 0.0781 - accuracy: 0.9750 - val_loss: 3.8246 - val_accuracy: 0.5373\n",
      "Epoch 89/100\n",
      "50000/50000 [==============================] - 12s 234us/step - loss: 0.0815 - accuracy: 0.9733 - val_loss: 3.8194 - val_accuracy: 0.5247\n",
      "Epoch 90/100\n",
      "50000/50000 [==============================] - 12s 232us/step - loss: 0.0685 - accuracy: 0.9789 - val_loss: 3.9805 - val_accuracy: 0.5292\n",
      "Epoch 91/100\n",
      "50000/50000 [==============================] - 12s 232us/step - loss: 0.0779 - accuracy: 0.9746 - val_loss: 3.9050 - val_accuracy: 0.5395\n",
      "Epoch 92/100\n",
      "50000/50000 [==============================] - 12s 235us/step - loss: 0.0734 - accuracy: 0.9764 - val_loss: 3.7802 - val_accuracy: 0.5293\n",
      "Epoch 93/100\n",
      "50000/50000 [==============================] - 12s 234us/step - loss: 0.0635 - accuracy: 0.9795 - val_loss: 3.7235 - val_accuracy: 0.5311\n",
      "Epoch 94/100\n",
      "50000/50000 [==============================] - 12s 234us/step - loss: 0.0760 - accuracy: 0.9757 - val_loss: 3.7887 - val_accuracy: 0.5331\n",
      "Epoch 95/100\n",
      "50000/50000 [==============================] - 12s 235us/step - loss: 0.0746 - accuracy: 0.9762 - val_loss: 3.9018 - val_accuracy: 0.5294\n",
      "Epoch 96/100\n",
      "50000/50000 [==============================] - 12s 234us/step - loss: 0.0668 - accuracy: 0.9790 - val_loss: 3.7256 - val_accuracy: 0.5295\n",
      "Epoch 97/100\n",
      "50000/50000 [==============================] - 12s 233us/step - loss: 0.0615 - accuracy: 0.9801 - val_loss: 3.8707 - val_accuracy: 0.5299\n",
      "Epoch 98/100\n",
      "50000/50000 [==============================] - 12s 235us/step - loss: 0.0609 - accuracy: 0.9812 - val_loss: 3.9998 - val_accuracy: 0.5327\n",
      "Epoch 99/100\n",
      "50000/50000 [==============================] - 12s 234us/step - loss: 0.0635 - accuracy: 0.9789 - val_loss: 4.0502 - val_accuracy: 0.5251\n",
      "Epoch 100/100\n",
      "50000/50000 [==============================] - 12s 233us/step - loss: 0.0663 - accuracy: 0.9793 - val_loss: 3.8779 - val_accuracy: 0.5280\n",
      "\n",
      "The training takes 1150.935525894165.\n"
     ]
    }
   ],
   "source": [
    "import time\n",
    "t1 = time.time()\n",
    "\n",
    "model.fit(x_train, y_train, \n",
    "          epochs=EPOCHS, \n",
    "          batch_size=BATCH_SIZE, \n",
    "          validation_data=(x_test, y_test), \n",
    "          shuffle=True)\n",
    "\n",
    "t2 = time.time()\n",
    "print(f\"\\nThe training takes {t2-t1}.\")"
   ]
  },
  {
   "cell_type": "code",
   "execution_count": 11,
   "metadata": {},
   "outputs": [
    {
     "data": {
      "image/png": "[encoded data removed]",
      "text/plain": [
       "<Figure size 432x288 with 1 Axes>"
      ]
     },
     "metadata": {
      "needs_background": "light"
     },
     "output_type": "display_data"
    },
    {
     "data": {
      "image/png": "[encoded data removed]",
      "text/plain": [
       "<Figure size 432x288 with 1 Axes>"
      ]
     },
     "metadata": {
      "needs_background": "light"
     },
     "output_type": "display_data"
    }
   ],
   "source": [
    "import matplotlib.pyplot as plt\n",
    "%matplotlib inline\n",
    "\n",
    "train_loss = model.history.history[\"loss\"]\n",
    "valid_loss = model.history.history[\"val_loss\"]\n",
    "\n",
    "train_acc = model.history.history[\"accuracy\"]\n",
    "valid_acc = model.history.history[\"val_accuracy\"]\n",
    "\n",
    "plt.plot(range(len(train_loss)), train_loss, label=\"train loss\")\n",
    "plt.plot(range(len(valid_loss)), valid_loss, label=\"valid loss\")\n",
    "plt.legend()\n",
    "plt.title(\"Loss\")\n",
    "plt.show()\n",
    "\n",
    "plt.plot(range(len(train_acc)), train_acc, label=\"train accuracy\")\n",
    "plt.plot(range(len(valid_acc)), valid_acc, label=\"valid accuracy\")\n",
    "plt.legend()\n",
    "plt.title(\"Accuracy\")\n",
    "plt.show()"
   ]
  },
  {
   "cell_type": "code",
   "execution_count": null,
   "metadata": {},
   "outputs": [],
   "source": []
  }
 ],
 "metadata": {
  "kernelspec": {
   "display_name": "Python 3",
   "language": "python",
   "name": "python3"
  },
  "language_info": {
   "codemirror_mode": {
    "name": "ipython",
    "version": 3
   },
   "file_extension": ".py",
   "mimetype": "text/x-python",
   "name": "python",
   "nbconvert_exporter": "python",
   "pygments_lexer": "ipython3",
   "version": "3.7.3"
  }
 },
 "nbformat": 4,
 "nbformat_minor": 2
}
