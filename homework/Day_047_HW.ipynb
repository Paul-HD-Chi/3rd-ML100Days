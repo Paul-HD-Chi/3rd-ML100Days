{
 "cells": [
  {
   "cell_type": "markdown",
   "metadata": {},
   "source": [
    "## [作業重點]\n",
    "了解如何使用 Sklearn 中的 hyper-parameter search 找出最佳的超參數"
   ]
  },
  {
   "cell_type": "markdown",
   "metadata": {},
   "source": [
    "### 作業\n",
    "請使用不同的資料集，並使用 hyper-parameter search 的方式，看能不能找出最佳的超參數組合"
   ]
  },
  {
   "cell_type": "code",
   "execution_count": 1,
   "metadata": {},
   "outputs": [],
   "source": [
    "from sklearn import datasets, metrics\n",
    "from sklearn.ensemble import GradientBoostingClassifier\n",
    "from sklearn.model_selection import train_test_split\n",
    "\n",
    "import numpy as np\n",
    "\n",
    "from matplotlib import pyplot as plt\n",
    "from pprint import pprint\n"
   ]
  },
  {
   "cell_type": "code",
   "execution_count": 2,
   "metadata": {},
   "outputs": [
    {
     "name": "stdout",
     "output_type": "stream",
     "text": [
      "digits.data.shape: (1797, 64)\n",
      "digits.data:\n",
      "[[ 0.  0.  5. ...  0.  0.  0.]\n",
      " [ 0.  0.  0. ... 10.  0.  0.]\n",
      " [ 0.  0.  0. ... 16.  9.  0.]\n",
      " ...\n",
      " [ 0.  0.  1. ...  6.  0.  0.]\n",
      " [ 0.  0.  2. ... 12.  0.  0.]\n",
      " [ 0.  0. 10. ... 12.  1.  0.]]\n",
      "digits.target:\n",
      "[0 1 2 ... 8 9 8]\n",
      "digits.images:\n",
      "[[[ 0.  0.  5. ...  1.  0.  0.]\n",
      "  [ 0.  0. 13. ... 15.  5.  0.]\n",
      "  [ 0.  3. 15. ... 11.  8.  0.]\n",
      "  ...\n",
      "  [ 0.  4. 11. ... 12.  7.  0.]\n",
      "  [ 0.  2. 14. ... 12.  0.  0.]\n",
      "  [ 0.  0.  6. ...  0.  0.  0.]]\n",
      "\n",
      " [[ 0.  0.  0. ...  5.  0.  0.]\n",
      "  [ 0.  0.  0. ...  9.  0.  0.]\n",
      "  [ 0.  0.  3. ...  6.  0.  0.]\n",
      "  ...\n",
      "  [ 0.  0.  1. ...  6.  0.  0.]\n",
      "  [ 0.  0.  1. ...  6.  0.  0.]\n",
      "  [ 0.  0.  0. ... 10.  0.  0.]]\n",
      "\n",
      " [[ 0.  0.  0. ... 12.  0.  0.]\n",
      "  [ 0.  0.  3. ... 14.  0.  0.]\n",
      "  [ 0.  0.  8. ... 16.  0.  0.]\n",
      "  ...\n",
      "  [ 0.  9. 16. ...  0.  0.  0.]\n",
      "  [ 0.  3. 13. ... 11.  5.  0.]\n",
      "  [ 0.  0.  0. ... 16.  9.  0.]]\n",
      "\n",
      " ...\n",
      "\n",
      " [[ 0.  0.  1. ...  1.  0.  0.]\n",
      "  [ 0.  0. 13. ...  2.  1.  0.]\n",
      "  [ 0.  0. 16. ... 16.  5.  0.]\n",
      "  ...\n",
      "  [ 0.  0. 16. ... 15.  0.  0.]\n",
      "  [ 0.  0. 15. ... 16.  0.  0.]\n",
      "  [ 0.  0.  2. ...  6.  0.  0.]]\n",
      "\n",
      " [[ 0.  0.  2. ...  0.  0.  0.]\n",
      "  [ 0.  0. 14. ... 15.  1.  0.]\n",
      "  [ 0.  4. 16. ... 16.  7.  0.]\n",
      "  ...\n",
      "  [ 0.  0.  0. ... 16.  2.  0.]\n",
      "  [ 0.  0.  4. ... 16.  2.  0.]\n",
      "  [ 0.  0.  5. ... 12.  0.  0.]]\n",
      "\n",
      " [[ 0.  0. 10. ...  1.  0.  0.]\n",
      "  [ 0.  2. 16. ...  1.  0.  0.]\n",
      "  [ 0.  0. 15. ... 15.  0.  0.]\n",
      "  ...\n",
      "  [ 0.  4. 16. ... 16.  6.  0.]\n",
      "  [ 0.  8. 16. ... 16.  8.  0.]\n",
      "  [ 0.  1.  8. ... 12.  1.  0.]]]\n",
      "digits.DESCR:\n",
      ".. _digits_dataset:\n",
      "\n",
      "Optical recognition of handwritten digits dataset\n",
      "--------------------------------------------------\n",
      "\n",
      "**Data Set Characteristics:**\n",
      "\n",
      "    :Number of Instances: 5620\n",
      "    :Number of Attributes: 64\n",
      "    :Attribute Information: 8x8 image of integer pixels in the range 0..16.\n",
      "    :Missing Attribute Values: None\n",
      "    :Creator: E. Alpaydin (alpaydin '@' boun.edu.tr)\n",
      "    :Date: July; 1998\n",
      "\n",
      "This is a copy of the test set of the UCI ML hand-written digits datasets\n",
      "https://archive.ics.uci.edu/ml/datasets/Optical+Recognition+of+Handwritten+Digits\n",
      "\n",
      "The data set contains images of hand-written digits: 10 classes where\n",
      "each class refers to a digit.\n",
      "\n",
      "Preprocessing programs made available by NIST were used to extract\n",
      "normalized bitmaps of handwritten digits from a preprinted form. From a\n",
      "total of 43 people, 30 contributed to the training set and different 13\n",
      "to the test set. 32x32 bitmaps are divided into nonoverlapping blocks of\n",
      "4x4 and the number of on pixels are counted in each block. This generates\n",
      "an input matrix of 8x8 where each element is an integer in the range\n",
      "0..16. This reduces dimensionality and gives invariance to small\n",
      "distortions.\n",
      "\n",
      "For info on NIST preprocessing routines, see M. D. Garris, J. L. Blue, G.\n",
      "T. Candela, D. L. Dimmick, J. Geist, P. J. Grother, S. A. Janet, and C.\n",
      "L. Wilson, NIST Form-Based Handprint Recognition System, NISTIR 5469,\n",
      "1994.\n",
      "\n",
      ".. topic:: References\n",
      "\n",
      "  - C. Kaynak (1995) Methods of Combining Multiple Classifiers and Their\n",
      "    Applications to Handwritten Digit Recognition, MSc Thesis, Institute of\n",
      "    Graduate Studies in Science and Engineering, Bogazici University.\n",
      "  - E. Alpaydin, C. Kaynak (1998) Cascading Classifiers, Kybernetika.\n",
      "  - Ken Tang and Ponnuthurai N. Suganthan and Xi Yao and A. Kai Qin.\n",
      "    Linear dimensionalityreduction using relevance weighted LDA. School of\n",
      "    Electrical and Electronic Engineering Nanyang Technological University.\n",
      "    2005.\n",
      "  - Claudio Gentile. A New Approximate Maximal Margin Classification\n",
      "    Algorithm. NIPS. 2000.\n"
     ]
    },
    {
     "data": {
      "image/png": "[encoded data removed]",
      "text/plain": [
       "<Figure size 432x288 with 10 Axes>"
      ]
     },
     "metadata": {
      "needs_background": "light"
     },
     "output_type": "display_data"
    }
   ],
   "source": [
    "# Load and return the digits dataset\n",
    "digits = datasets.load_digits()\n",
    "\n",
    "# print(f\"digits:\\n{digits}\")\n",
    "print(f\"digits.data.shape: {digits.data.shape}\")\n",
    "print(f\"digits.data:\\n{digits.data}\")\n",
    "print(f\"digits.target:\\n{digits.target}\")\n",
    "print(f\"digits.images:\\n{digits.images}\")\n",
    "print(f\"digits.DESCR:\\n{digits.DESCR}\")\n",
    "\n",
    "images_and_labels = list(zip(digits.images, digits.target))\n",
    "# print(images_and_labels)\n",
    "# plot the first 10 samples\n",
    "for index, (image, label) in enumerate(images_and_labels[:10]):\n",
    "    plt.subplot(2, 5, index + 1)\n",
    "    plt.axis('off')\n",
    "    plt.imshow(image,                  # the image to be plotted\n",
    "               cmap=plt.cm.gray_r,     # color map\n",
    "               interpolation='nearest'\n",
    "              )\n",
    "    plt.title(f\"Training: {label}\")\n",
    "plt.show()\n"
   ]
  },
  {
   "cell_type": "code",
   "execution_count": 3,
   "metadata": {},
   "outputs": [
    {
     "data": {
      "image/png": "[encoded data removed]",
      "text/plain": [
       "<Figure size 432x288 with 10 Axes>"
      ]
     },
     "metadata": {
      "needs_background": "light"
     },
     "output_type": "display_data"
    }
   ],
   "source": [
    "# split into training / test sets\n",
    "x_train, x_test, y_train, y_test, images_train, images_test = train_test_split(digits.data, \n",
    "                                                                               digits.target, \n",
    "                                                                               digits.images, \n",
    "                                                                               test_size=0.25, random_state=4)\n",
    "\n",
    "# plot the first 10 training images\n",
    "images_and_labels = list(zip(images_train, y_train))\n",
    "# plot the first 10 samples\n",
    "for index, (image, label) in enumerate(images_and_labels[:10]):\n",
    "    plt.subplot(2, 5, index + 1)\n",
    "    plt.axis('off')\n",
    "    plt.imshow(image,                  # the image to be plotted\n",
    "               cmap=plt.cm.gray_r,     # color map\n",
    "               interpolation='nearest'\n",
    "              )\n",
    "    plt.title(f\"Training: {label}\")\n",
    "plt.show()\n"
   ]
  },
  {
   "cell_type": "markdown",
   "metadata": {},
   "source": [
    "# Create the random forest classification model"
   ]
  },
  {
   "cell_type": "code",
   "execution_count": 4,
   "metadata": {},
   "outputs": [
    {
     "name": "stdout",
     "output_type": "stream",
     "text": [
      "Accuracy: 0.9688888888888889\n"
     ]
    },
    {
     "data": {
      "image/png": "[encoded data removed]",
      "text/plain": [
       "<Figure size 432x288 with 10 Axes>"
      ]
     },
     "metadata": {
      "needs_background": "light"
     },
     "output_type": "display_data"
    },
    {
     "name": "stdout",
     "output_type": "stream",
     "text": [
      "Parameters of Base Model:\n",
      "\n",
      "{'criterion': 'friedman_mse',\n",
      " 'init': None,\n",
      " 'learning_rate': 0.1,\n",
      " 'loss': 'deviance',\n",
      " 'max_depth': 3,\n",
      " 'max_features': None,\n",
      " 'max_leaf_nodes': None,\n",
      " 'min_impurity_decrease': 0.0,\n",
      " 'min_impurity_split': None,\n",
      " 'min_samples_leaf': 1,\n",
      " 'min_samples_split': 2,\n",
      " 'min_weight_fraction_leaf': 0.0,\n",
      " 'n_estimators': 100,\n",
      " 'n_iter_no_change': None,\n",
      " 'presort': 'auto',\n",
      " 'random_state': None,\n",
      " 'subsample': 1.0,\n",
      " 'tol': 0.0001,\n",
      " 'validation_fraction': 0.1,\n",
      " 'verbose': 0,\n",
      " 'warm_start': False}\n",
      "\n"
     ]
    }
   ],
   "source": [
    "# estabish random forest classificaion model\n",
    "classifier = GradientBoostingClassifier(loss = 'deviance',    # loss function to be optimized\n",
    "                                        learning_rate = 0.1,\n",
    "                                        n_estimators = 100,   # The number of boosting stages to perform\n",
    "                                        criterion = 'friedman_mse'\n",
    "                                       )\n",
    "\n",
    "# train model on training set\n",
    "classifier.fit(x_train, y_train)\n",
    "\n",
    "# predict test set\n",
    "y_pred = classifier.predict(x_test)\n",
    "\n",
    "acc = metrics.accuracy_score(y_test, y_pred)\n",
    "print(f\"Accuracy: {acc}\")\n",
    "# print(f\"Feature Importance:\\n{classifier.feature_importances_}\")\n",
    "\n",
    "\n",
    "# plot the first 10 test images\n",
    "images_and_labels = list(zip(images_test, y_test))\n",
    "# plot the first 10 samples\n",
    "for index, (image, label) in enumerate(images_and_labels[:10]):\n",
    "    plt.subplot(2, 5, index + 1)\n",
    "    plt.axis('off')\n",
    "    plt.imshow(image,                  # the image to be plotted\n",
    "               cmap=plt.cm.gray_r,     # color map\n",
    "               interpolation='nearest'\n",
    "              )\n",
    "    plt.title(f\"Training: {label}\")\n",
    "plt.show()\n",
    "\n",
    "# parameters currently used by base_model\n",
    "print(\"Parameters of Base Model:\\n\")\n",
    "pprint(classifier.get_params())\n",
    "print()\n"
   ]
  },
  {
   "cell_type": "markdown",
   "metadata": {},
   "source": [
    "# Random Search with Cross Validation"
   ]
  },
  {
   "cell_type": "code",
   "execution_count": 5,
   "metadata": {},
   "outputs": [
    {
     "name": "stdout",
     "output_type": "stream",
     "text": [
      "{'max_depth': [5, 10, 15, 20, 25, 30, 35, 40, 45, 50, None],\n",
      " 'max_features': ['sqrt', 'log2', None],\n",
      " 'min_samples_leaf': [1, 2, 4],\n",
      " 'min_samples_split': [2, 5, 10],\n",
      " 'n_estimators': [100, 200, 300, 400, 500, 600, 700, 800, 900, 1000]}\n"
     ]
    }
   ],
   "source": [
    "from sklearn.model_selection import RandomizedSearchCV\n",
    "\n",
    "# Number of trees in random forest\n",
    "n_estimators = [int(x) for x in np.linspace(start = 100, stop = 1000, num = 10)]\n",
    "\n",
    "# Number of features to consider at every split\n",
    "max_features = ['sqrt', 'log2', None]\n",
    "\n",
    "# Maximum number of levels in tree\n",
    "max_depth = [int(x) for x in np.linspace(5, 50, num = 10)]\n",
    "max_depth.append(None)\n",
    "\n",
    "# Minimum number of samples required to split a node\n",
    "min_samples_split = [2, 5, 10]\n",
    "\n",
    "# Minimum number of samples required at each leaf node\n",
    "min_samples_leaf = [1, 2, 4]\n",
    "\n",
    "# Create the random grid\n",
    "random_grid = {'n_estimators': n_estimators,\n",
    "               'max_features': max_features,\n",
    "               'max_depth': max_depth,\n",
    "               'min_samples_split': min_samples_split,\n",
    "               'min_samples_leaf': min_samples_leaf,\n",
    "               }\n",
    "\n",
    "pprint(random_grid)\n"
   ]
  },
  {
   "cell_type": "code",
   "execution_count": 6,
   "metadata": {},
   "outputs": [
    {
     "name": "stdout",
     "output_type": "stream",
     "text": [
      "Fitting 3 folds for each of 50 candidates, totalling 150 fits\n"
     ]
    },
    {
     "name": "stderr",
     "output_type": "stream",
     "text": [
      "[Parallel(n_jobs=-1)]: Using backend LokyBackend with 4 concurrent workers.\n",
      "[Parallel(n_jobs=-1)]: Done  33 tasks      | elapsed:  1.3min\n",
      "[Parallel(n_jobs=-1)]: Done 150 out of 150 | elapsed:  5.7min finished\n",
      "C:\\ProgramData\\Anaconda3\\lib\\site-packages\\sklearn\\model_selection\\_search.py:814: DeprecationWarning: The default of the `iid` parameter will change from True to False in version 0.22 and will be removed in 0.24. This will change numeric results when test-set sizes are unequal.\n",
      "  DeprecationWarning)\n"
     ]
    }
   ],
   "source": [
    "# Use the random grid to search for best hyperparameters\n",
    "\n",
    "# Random search of parameters, using 3 fold cross validation, \n",
    "# search across 50 different combinations, and use all available cores\n",
    "rf_random = RandomizedSearchCV(estimator=classifier,\n",
    "                               param_distributions=random_grid,\n",
    "                               n_iter = 50,\n",
    "                               # scoring='neg_mean_absolute_error',\n",
    "                               cv = 3,\n",
    "                               verbose=2,\n",
    "                               random_state=42,\n",
    "                               n_jobs=-1,\n",
    "                               return_train_score=True)\n",
    "\n",
    "# Fit the random search model\n",
    "rf_random.fit(x_train, y_train);\n"
   ]
  },
  {
   "cell_type": "code",
   "execution_count": 7,
   "metadata": {},
   "outputs": [
    {
     "name": "stdout",
     "output_type": "stream",
     "text": [
      "the best parameters:\n",
      "{'n_estimators': 700, 'min_samples_split': 2, 'min_samples_leaf': 4, 'max_features': 'log2', 'max_depth': 25}\n",
      "\n"
     ]
    }
   ],
   "source": [
    "print(f\"the best parameters:\\n{rf_random.best_params_}\\n\")\n"
   ]
  },
  {
   "cell_type": "code",
   "execution_count": 8,
   "metadata": {},
   "outputs": [
    {
     "name": "stdout",
     "output_type": "stream",
     "text": [
      "the cross validation result:\n",
      "{'mean_fit_time': array([15.54327822,  5.53725489, 12.42823799,  4.85839669,  9.52297672,\n",
      "        5.07914297,  5.27063179,  5.51664368, 11.80689351,  9.84877396,\n",
      "        7.50867359,  3.31650265,  8.49305161, 15.83151126,  4.07082804,\n",
      "        9.19684545, 10.01699456,  9.35209664,  4.09310174,  4.80952589,\n",
      "       14.21082544,  8.66692177, 11.6798981 , 15.98776094,  5.05155023,\n",
      "        4.55719956, 15.50670902,  4.1216925 ,  9.739398  ,  6.90760692,\n",
      "       10.86673101, 14.62904565, 16.35012126,  8.32050157, 11.29923097,\n",
      "        6.34210269,  8.7290744 ,  4.45446587,  9.68153969,  5.09076961,\n",
      "        8.00101781,  8.72675006,  7.75932773,  9.06185826,  9.01032925,\n",
      "       10.59510446, 11.36871155, 10.06651497,  8.52827923,  7.67458057]), 'std_fit_time': array([0.15035771, 0.10433899, 0.00632591, 0.06474028, 0.10129174,\n",
      "       0.07958219, 0.17674152, 0.06155853, 0.05340061, 0.2646562 ,\n",
      "       0.31451879, 0.00523571, 0.10029602, 0.12602353, 0.07738456,\n",
      "       0.09473673, 0.03930938, 0.06496331, 0.0565119 , 0.05502907,\n",
      "       0.23420095, 0.03759283, 0.01733206, 0.11008853, 0.03541155,\n",
      "       0.05258737, 0.31732738, 0.1286575 , 0.17093987, 0.13278489,\n",
      "       0.10868818, 0.16227203, 0.18327689, 0.08347567, 0.0550523 ,\n",
      "       0.0551593 , 0.09595042, 0.05669073, 0.08117346, 0.04298468,\n",
      "       0.06119005, 0.07248555, 0.05791946, 0.06561875, 0.08814789,\n",
      "       0.10271371, 0.03032835, 0.06953005, 0.0571602 , 0.73949266]), 'mean_score_time': array([0.03291194, 0.02327053, 0.02360376, 0.02160827, 0.03025047,\n",
      "       0.021276  , 0.01163507, 0.01396132, 0.02293913, 0.03656904,\n",
      "       0.01662246, 0.01363031, 0.02293793, 0.03457316, 0.01928075,\n",
      "       0.03291114, 0.03457244, 0.03590504, 0.00997313, 0.02160883,\n",
      "       0.03324533, 0.03058521, 0.02293777, 0.03523914, 0.02227298,\n",
      "       0.01961342, 0.033909  , 0.01928067, 0.03523986, 0.02360376,\n",
      "       0.03623605, 0.03025142, 0.03523906, 0.02726094, 0.03390837,\n",
      "       0.02659591, 0.03523898, 0.01994689, 0.01795038, 0.02194158,\n",
      "       0.02726046, 0.03224707, 0.02559861, 0.02227187, 0.02892192,\n",
      "       0.03889672, 0.02260558, 0.03390892, 0.02194166, 0.02591793]), 'std_score_time': array([1.41096411e-03, 4.70246599e-04, 4.70920828e-04, 4.70976993e-04,\n",
      "       9.40998643e-04, 4.70358991e-04, 4.70360803e-04, 8.14004210e-04,\n",
      "       8.15075222e-04, 2.04888019e-03, 4.69965711e-04, 4.70302724e-04,\n",
      "       8.13809433e-04, 2.35106365e-03, 4.70977235e-04, 8.14393437e-04,\n",
      "       1.24396406e-03, 4.31002697e-03, 4.05233662e-07, 9.40211942e-04,\n",
      "       4.01754397e-03, 4.70809845e-04, 8.14880128e-04, 2.61788829e-03,\n",
      "       4.70752693e-04, 1.69504566e-03, 3.55041682e-03, 4.69684843e-04,\n",
      "       4.69234954e-04, 4.70246599e-04, 9.41560601e-04, 1.24358171e-03,\n",
      "       4.70302724e-04, 4.70246478e-04, 8.15074796e-04, 4.69403753e-04,\n",
      "       5.42089038e-03, 8.15269774e-04, 8.15366730e-04, 8.13809433e-04,\n",
      "       4.70415035e-04, 4.69516145e-04, 1.69488983e-03, 4.69347345e-04,\n",
      "       8.14490730e-04, 2.15449843e-03, 4.70134086e-04, 8.14490753e-04,\n",
      "       5.15042996e-07, 3.74626567e-03]), 'param_n_estimators': masked_array(data=[900, 300, 400, 300, 700, 200, 100, 300, 300, 1000, 400,\n",
      "                   300, 700, 900, 400, 800, 900, 800, 200, 500, 800, 700,\n",
      "                   300, 900, 200, 100, 1000, 400, 900, 300, 1000, 900,\n",
      "                   1000, 1000, 1000, 500, 700, 100, 200, 200, 500, 700,\n",
      "                   900, 900, 700, 1000, 300, 900, 700, 800],\n",
      "             mask=[False, False, False, False, False, False, False, False,\n",
      "                   False, False, False, False, False, False, False, False,\n",
      "                   False, False, False, False, False, False, False, False,\n",
      "                   False, False, False, False, False, False, False, False,\n",
      "                   False, False, False, False, False, False, False, False,\n",
      "                   False, False, False, False, False, False, False, False,\n",
      "                   False, False],\n",
      "       fill_value='?',\n",
      "            dtype=object), 'param_min_samples_split': masked_array(data=[10, 10, 2, 2, 2, 10, 5, 5, 2, 5, 5, 2, 2, 5, 2, 10, 5,\n",
      "                   2, 2, 10, 10, 2, 2, 5, 10, 5, 2, 2, 10, 2, 2, 2, 10, 2,\n",
      "                   5, 10, 2, 10, 2, 2, 5, 10, 2, 2, 5, 10, 10, 10, 5, 10],\n",
      "             mask=[False, False, False, False, False, False, False, False,\n",
      "                   False, False, False, False, False, False, False, False,\n",
      "                   False, False, False, False, False, False, False, False,\n",
      "                   False, False, False, False, False, False, False, False,\n",
      "                   False, False, False, False, False, False, False, False,\n",
      "                   False, False, False, False, False, False, False, False,\n",
      "                   False, False],\n",
      "       fill_value='?',\n",
      "            dtype=object), 'param_min_samples_leaf': masked_array(data=[2, 2, 4, 4, 2, 1, 1, 1, 4, 4, 1, 1, 4, 4, 1, 2, 4, 4,\n",
      "                   1, 2, 4, 4, 4, 4, 2, 1, 2, 4, 4, 2, 4, 2, 4, 1, 1, 4,\n",
      "                   4, 1, 2, 4, 2, 1, 1, 1, 1, 2, 4, 2, 4, 4],\n",
      "             mask=[False, False, False, False, False, False, False, False,\n",
      "                   False, False, False, False, False, False, False, False,\n",
      "                   False, False, False, False, False, False, False, False,\n",
      "                   False, False, False, False, False, False, False, False,\n",
      "                   False, False, False, False, False, False, False, False,\n",
      "                   False, False, False, False, False, False, False, False,\n",
      "                   False, False],\n",
      "       fill_value='?',\n",
      "            dtype=object), 'param_max_features': masked_array(data=[None, 'log2', None, 'sqrt', 'log2', 'sqrt', None, None,\n",
      "                   None, 'log2', None, 'sqrt', None, None, 'log2', 'sqrt',\n",
      "                   'log2', 'log2', None, 'log2', None, 'sqrt', None, None,\n",
      "                   'sqrt', 'sqrt', None, 'sqrt', 'log2', 'log2', 'sqrt',\n",
      "                   None, None, 'log2', 'sqrt', 'sqrt', 'log2', 'sqrt',\n",
      "                   None, 'sqrt', 'log2', 'log2', 'log2', None, 'sqrt',\n",
      "                   'log2', None, 'sqrt', None, 'log2'],\n",
      "             mask=[False, False, False, False, False, False, False, False,\n",
      "                   False, False, False, False, False, False, False, False,\n",
      "                   False, False, False, False, False, False, False, False,\n",
      "                   False, False, False, False, False, False, False, False,\n",
      "                   False, False, False, False, False, False, False, False,\n",
      "                   False, False, False, False, False, False, False, False,\n",
      "                   False, False],\n",
      "       fill_value='?',\n",
      "            dtype=object), 'param_max_depth': masked_array(data=[45, 25, 45, 10, 30, 40, 10, 5, None, 10, 10, 30, 5, 45,\n",
      "                   5, 50, 35, 30, 35, 5, 15, 50, 35, 25, None, 25, 25, 5,\n",
      "                   15, 20, 25, 40, None, 25, 40, 10, 25, 30, None, None,\n",
      "                   50, 20, 45, 35, None, 35, 45, None, 5, 45],\n",
      "             mask=[False, False, False, False, False, False, False, False,\n",
      "                   False, False, False, False, False, False, False, False,\n",
      "                   False, False, False, False, False, False, False, False,\n",
      "                   False, False, False, False, False, False, False, False,\n",
      "                   False, False, False, False, False, False, False, False,\n",
      "                   False, False, False, False, False, False, False, False,\n",
      "                   False, False],\n",
      "       fill_value='?',\n",
      "            dtype=object), 'params': [{'n_estimators': 900, 'min_samples_split': 10, 'min_samples_leaf': 2, 'max_features': None, 'max_depth': 45}, {'n_estimators': 300, 'min_samples_split': 10, 'min_samples_leaf': 2, 'max_features': 'log2', 'max_depth': 25}, {'n_estimators': 400, 'min_samples_split': 2, 'min_samples_leaf': 4, 'max_features': None, 'max_depth': 45}, {'n_estimators': 300, 'min_samples_split': 2, 'min_samples_leaf': 4, 'max_features': 'sqrt', 'max_depth': 10}, {'n_estimators': 700, 'min_samples_split': 2, 'min_samples_leaf': 2, 'max_features': 'log2', 'max_depth': 30}, {'n_estimators': 200, 'min_samples_split': 10, 'min_samples_leaf': 1, 'max_features': 'sqrt', 'max_depth': 40}, {'n_estimators': 100, 'min_samples_split': 5, 'min_samples_leaf': 1, 'max_features': None, 'max_depth': 10}, {'n_estimators': 300, 'min_samples_split': 5, 'min_samples_leaf': 1, 'max_features': None, 'max_depth': 5}, {'n_estimators': 300, 'min_samples_split': 2, 'min_samples_leaf': 4, 'max_features': None, 'max_depth': None}, {'n_estimators': 1000, 'min_samples_split': 5, 'min_samples_leaf': 4, 'max_features': 'log2', 'max_depth': 10}, {'n_estimators': 400, 'min_samples_split': 5, 'min_samples_leaf': 1, 'max_features': None, 'max_depth': 10}, {'n_estimators': 300, 'min_samples_split': 2, 'min_samples_leaf': 1, 'max_features': 'sqrt', 'max_depth': 30}, {'n_estimators': 700, 'min_samples_split': 2, 'min_samples_leaf': 4, 'max_features': None, 'max_depth': 5}, {'n_estimators': 900, 'min_samples_split': 5, 'min_samples_leaf': 4, 'max_features': None, 'max_depth': 45}, {'n_estimators': 400, 'min_samples_split': 2, 'min_samples_leaf': 1, 'max_features': 'log2', 'max_depth': 5}, {'n_estimators': 800, 'min_samples_split': 10, 'min_samples_leaf': 2, 'max_features': 'sqrt', 'max_depth': 50}, {'n_estimators': 900, 'min_samples_split': 5, 'min_samples_leaf': 4, 'max_features': 'log2', 'max_depth': 35}, {'n_estimators': 800, 'min_samples_split': 2, 'min_samples_leaf': 4, 'max_features': 'log2', 'max_depth': 30}, {'n_estimators': 200, 'min_samples_split': 2, 'min_samples_leaf': 1, 'max_features': None, 'max_depth': 35}, {'n_estimators': 500, 'min_samples_split': 10, 'min_samples_leaf': 2, 'max_features': 'log2', 'max_depth': 5}, {'n_estimators': 800, 'min_samples_split': 10, 'min_samples_leaf': 4, 'max_features': None, 'max_depth': 15}, {'n_estimators': 700, 'min_samples_split': 2, 'min_samples_leaf': 4, 'max_features': 'sqrt', 'max_depth': 50}, {'n_estimators': 300, 'min_samples_split': 2, 'min_samples_leaf': 4, 'max_features': None, 'max_depth': 35}, {'n_estimators': 900, 'min_samples_split': 5, 'min_samples_leaf': 4, 'max_features': None, 'max_depth': 25}, {'n_estimators': 200, 'min_samples_split': 10, 'min_samples_leaf': 2, 'max_features': 'sqrt', 'max_depth': None}, {'n_estimators': 100, 'min_samples_split': 5, 'min_samples_leaf': 1, 'max_features': 'sqrt', 'max_depth': 25}, {'n_estimators': 1000, 'min_samples_split': 2, 'min_samples_leaf': 2, 'max_features': None, 'max_depth': 25}, {'n_estimators': 400, 'min_samples_split': 2, 'min_samples_leaf': 4, 'max_features': 'sqrt', 'max_depth': 5}, {'n_estimators': 900, 'min_samples_split': 10, 'min_samples_leaf': 4, 'max_features': 'log2', 'max_depth': 15}, {'n_estimators': 300, 'min_samples_split': 2, 'min_samples_leaf': 2, 'max_features': 'log2', 'max_depth': 20}, {'n_estimators': 1000, 'min_samples_split': 2, 'min_samples_leaf': 4, 'max_features': 'sqrt', 'max_depth': 25}, {'n_estimators': 900, 'min_samples_split': 2, 'min_samples_leaf': 2, 'max_features': None, 'max_depth': 40}, {'n_estimators': 1000, 'min_samples_split': 10, 'min_samples_leaf': 4, 'max_features': None, 'max_depth': None}, {'n_estimators': 1000, 'min_samples_split': 2, 'min_samples_leaf': 1, 'max_features': 'log2', 'max_depth': 25}, {'n_estimators': 1000, 'min_samples_split': 5, 'min_samples_leaf': 1, 'max_features': 'sqrt', 'max_depth': 40}, {'n_estimators': 500, 'min_samples_split': 10, 'min_samples_leaf': 4, 'max_features': 'sqrt', 'max_depth': 10}, {'n_estimators': 700, 'min_samples_split': 2, 'min_samples_leaf': 4, 'max_features': 'log2', 'max_depth': 25}, {'n_estimators': 100, 'min_samples_split': 10, 'min_samples_leaf': 1, 'max_features': 'sqrt', 'max_depth': 30}, {'n_estimators': 200, 'min_samples_split': 2, 'min_samples_leaf': 2, 'max_features': None, 'max_depth': None}, {'n_estimators': 200, 'min_samples_split': 2, 'min_samples_leaf': 4, 'max_features': 'sqrt', 'max_depth': None}, {'n_estimators': 500, 'min_samples_split': 5, 'min_samples_leaf': 2, 'max_features': 'log2', 'max_depth': 50}, {'n_estimators': 700, 'min_samples_split': 10, 'min_samples_leaf': 1, 'max_features': 'log2', 'max_depth': 20}, {'n_estimators': 900, 'min_samples_split': 2, 'min_samples_leaf': 1, 'max_features': 'log2', 'max_depth': 45}, {'n_estimators': 900, 'min_samples_split': 2, 'min_samples_leaf': 1, 'max_features': None, 'max_depth': 35}, {'n_estimators': 700, 'min_samples_split': 5, 'min_samples_leaf': 1, 'max_features': 'sqrt', 'max_depth': None}, {'n_estimators': 1000, 'min_samples_split': 10, 'min_samples_leaf': 2, 'max_features': 'log2', 'max_depth': 35}, {'n_estimators': 300, 'min_samples_split': 10, 'min_samples_leaf': 4, 'max_features': None, 'max_depth': 45}, {'n_estimators': 900, 'min_samples_split': 10, 'min_samples_leaf': 2, 'max_features': 'sqrt', 'max_depth': None}, {'n_estimators': 700, 'min_samples_split': 5, 'min_samples_leaf': 4, 'max_features': None, 'max_depth': 5}, {'n_estimators': 800, 'min_samples_split': 10, 'min_samples_leaf': 4, 'max_features': 'log2', 'max_depth': 45}], 'split0_test_score': array([0.94933921, 0.98898678, 0.96475771, 0.98898678, 0.9845815 ,\n",
      "       0.98017621, 0.92290749, 0.95374449, 0.95814978, 0.9845815 ,\n",
      "       0.92290749, 0.97797357, 0.98017621, 0.96035242, 0.99118943,\n",
      "       0.98678414, 0.99118943, 0.97577093, 0.9185022 , 0.98898678,\n",
      "       0.96255507, 0.9845815 , 0.97136564, 0.96696035, 0.97797357,\n",
      "       0.98017621, 0.92731278, 0.9845815 , 0.97797357, 0.9845815 ,\n",
      "       0.98678414, 0.9339207 , 0.96035242, 0.98017621, 0.97797357,\n",
      "       0.97797357, 0.98678414, 0.9845815 , 0.92731278, 0.9845815 ,\n",
      "       0.98237885, 0.98898678, 0.98017621, 0.91409692, 0.98237885,\n",
      "       0.98678414, 0.95814978, 0.98237885, 0.97577093, 0.97797357]), 'split1_test_score': array([0.91741071, 0.96428571, 0.93303571, 0.97321429, 0.96205357,\n",
      "       0.95982143, 0.89508929, 0.92410714, 0.9375    , 0.95982143,\n",
      "       0.89955357, 0.95982143, 0.9375    , 0.93080357, 0.96651786,\n",
      "       0.97321429, 0.95535714, 0.96428571, 0.88839286, 0.97321429,\n",
      "       0.9375    , 0.96428571, 0.93080357, 0.93526786, 0.97098214,\n",
      "       0.96428571, 0.92633929, 0.97098214, 0.96428571, 0.96428571,\n",
      "       0.96651786, 0.91517857, 0.93526786, 0.95089286, 0.94866071,\n",
      "       0.95758929, 0.96875   , 0.95982143, 0.91294643, 0.96875   ,\n",
      "       0.97098214, 0.97098214, 0.96428571, 0.89285714, 0.95982143,\n",
      "       0.96875   , 0.93526786, 0.95535714, 0.93526786, 0.96428571]), 'split2_test_score': array([0.91235955, 0.96179775, 0.91685393, 0.9505618 , 0.94831461,\n",
      "       0.95280899, 0.88988764, 0.90561798, 0.91910112, 0.95730337,\n",
      "       0.89438202, 0.95505618, 0.92134831, 0.91235955, 0.95280899,\n",
      "       0.95730337, 0.95730337, 0.9505618 , 0.86741573, 0.94831461,\n",
      "       0.91910112, 0.96179775, 0.91235955, 0.91910112, 0.94606742,\n",
      "       0.95730337, 0.90337079, 0.95505618, 0.96629213, 0.96404494,\n",
      "       0.95505618, 0.89213483, 0.91460674, 0.94831461, 0.95730337,\n",
      "       0.95505618, 0.96404494, 0.95505618, 0.88988764, 0.95955056,\n",
      "       0.95955056, 0.94831461, 0.95280899, 0.86067416, 0.95280899,\n",
      "       0.95730337, 0.91910112, 0.9505618 , 0.91011236, 0.95955056]), 'mean_test_score': array([0.92650334, 0.97178916, 0.93838159, 0.97104677, 0.96510765,\n",
      "       0.96436526, 0.90274684, 0.92798812, 0.93838159, 0.96733482,\n",
      "       0.90571641, 0.96436526, 0.94654788, 0.93466964, 0.97030438,\n",
      "       0.97253155, 0.96807721, 0.96362287, 0.89161099, 0.97030438,\n",
      "       0.93986637, 0.97030438, 0.93838159, 0.94060876, 0.96510765,\n",
      "       0.96733482, 0.91907944, 0.97030438, 0.96956199, 0.97104677,\n",
      "       0.96956199, 0.9138827 , 0.93689681, 0.95991091, 0.96139569,\n",
      "       0.96362287, 0.97327394, 0.96659243, 0.91017075, 0.97104677,\n",
      "       0.97104677, 0.96956199, 0.96585004, 0.88938382, 0.96510765,\n",
      "       0.97104677, 0.9376392 , 0.96288048, 0.94060876, 0.96733482]), 'std_test_score': array([0.01641179, 0.01230402, 0.01992714, 0.01576929, 0.01496946,\n",
      "       0.01162939, 0.0145301 , 0.01984752, 0.01596176, 0.0123399 ,\n",
      "       0.0124371 , 0.00989504, 0.02486296, 0.019792  , 0.01590294,\n",
      "       0.01205121, 0.01649853, 0.01030742, 0.02098983, 0.01673928,\n",
      "       0.01782742, 0.01023015, 0.02468789, 0.01990861, 0.01367612,\n",
      "       0.00958727, 0.01104074, 0.01206925, 0.006053  , 0.00965104,\n",
      "       0.01313641, 0.01709215, 0.01872041, 0.01448765, 0.01233292,\n",
      "       0.01028418, 0.00982165, 0.01297246, 0.01541155, 0.01035177,\n",
      "       0.00932444, 0.01664298, 0.01123269, 0.02195812, 0.0126413 ,\n",
      "       0.01215023, 0.01603723, 0.01403915, 0.0270823 , 0.00782676]), 'rank_test_score': array([43,  3, 36,  4, 22, 25, 48, 42, 36, 17, 47, 25, 32, 41,  9,  2, 16,\n",
      "       27, 49,  9, 35,  9, 36, 33, 22, 17, 44,  9, 13,  4, 13, 45, 40, 31,\n",
      "       30, 27,  1, 20, 46,  4,  4, 13, 21, 50, 22,  4, 39, 29, 33, 17]), 'split0_train_score': array([1., 1., 1., 1., 1., 1., 1., 1., 1., 1., 1., 1., 1., 1., 1., 1., 1.,\n",
      "       1., 1., 1., 1., 1., 1., 1., 1., 1., 1., 1., 1., 1., 1., 1., 1., 1.,\n",
      "       1., 1., 1., 1., 1., 1., 1., 1., 1., 1., 1., 1., 1., 1., 1., 1.]), 'split1_train_score': array([1., 1., 1., 1., 1., 1., 1., 1., 1., 1., 1., 1., 1., 1., 1., 1., 1.,\n",
      "       1., 1., 1., 1., 1., 1., 1., 1., 1., 1., 1., 1., 1., 1., 1., 1., 1.,\n",
      "       1., 1., 1., 1., 1., 1., 1., 1., 1., 1., 1., 1., 1., 1., 1., 1.]), 'split2_train_score': array([1., 1., 1., 1., 1., 1., 1., 1., 1., 1., 1., 1., 1., 1., 1., 1., 1.,\n",
      "       1., 1., 1., 1., 1., 1., 1., 1., 1., 1., 1., 1., 1., 1., 1., 1., 1.,\n",
      "       1., 1., 1., 1., 1., 1., 1., 1., 1., 1., 1., 1., 1., 1., 1., 1.]), 'mean_train_score': array([1., 1., 1., 1., 1., 1., 1., 1., 1., 1., 1., 1., 1., 1., 1., 1., 1.,\n",
      "       1., 1., 1., 1., 1., 1., 1., 1., 1., 1., 1., 1., 1., 1., 1., 1., 1.,\n",
      "       1., 1., 1., 1., 1., 1., 1., 1., 1., 1., 1., 1., 1., 1., 1., 1.]), 'std_train_score': array([0., 0., 0., 0., 0., 0., 0., 0., 0., 0., 0., 0., 0., 0., 0., 0., 0.,\n",
      "       0., 0., 0., 0., 0., 0., 0., 0., 0., 0., 0., 0., 0., 0., 0., 0., 0.,\n",
      "       0., 0., 0., 0., 0., 0., 0., 0., 0., 0., 0., 0., 0., 0., 0., 0.])}\n",
      "\n"
     ]
    }
   ],
   "source": [
    "print(f\"the cross validation result:\\n{rf_random.cv_results_}\\n\")\n"
   ]
  },
  {
   "cell_type": "code",
   "execution_count": 9,
   "metadata": {},
   "outputs": [
    {
     "name": "stdout",
     "output_type": "stream",
     "text": [
      "the best score: 0.9732739420935412\n"
     ]
    }
   ],
   "source": [
    "print(f\"the best score: {rf_random.best_score_}\")"
   ]
  },
  {
   "cell_type": "code",
   "execution_count": 10,
   "metadata": {},
   "outputs": [
    {
     "name": "stdout",
     "output_type": "stream",
     "text": [
      "mean-squared error: 0.3488888888888889\n",
      "\n",
      "Accuracy: 0.9822222222222222\n"
     ]
    }
   ],
   "source": [
    "# re-build teh model using the best parameters\n",
    "classifier_bestparam = GradientBoostingClassifier(n_estimators = rf_random.best_params_['n_estimators'],\n",
    "                                                 min_samples_split = rf_random.best_params_['min_samples_split'],\n",
    "                                                 min_samples_leaf = rf_random.best_params_['min_samples_leaf'],\n",
    "                                                 max_features = rf_random.best_params_['max_features'],\n",
    "                                                 max_depth = rf_random.best_params_['max_depth']\n",
    "                                                 )\n",
    "\n",
    "# train the model\n",
    "classifier_bestparam.fit(x_train, y_train)\n",
    "\n",
    "# predict the test set\n",
    "y_pred = classifier_bestparam.predict(x_test)\n",
    "\n",
    "# mean squared error\n",
    "print(f\"mean-squared error: {metrics.mean_squared_error(y_test, y_pred)}\\n\")\n",
    "\n",
    "acc = metrics.accuracy_score(y_test, y_pred)\n",
    "print(f\"Accuracy: {acc}\")\n"
   ]
  },
  {
   "cell_type": "code",
   "execution_count": 11,
   "metadata": {},
   "outputs": [
    {
     "data": {
      "image/png": "[encoded data removed]",
      "text/plain": [
       "<Figure size 432x288 with 10 Axes>"
      ]
     },
     "metadata": {
      "needs_background": "light"
     },
     "output_type": "display_data"
    }
   ],
   "source": [
    "# plot the first 10 test images\n",
    "images_and_labels = list(zip(images_test, y_test))\n",
    "# plot the first 10 samples\n",
    "for index, (image, label) in enumerate(images_and_labels[:10]):\n",
    "    plt.subplot(2, 5, index + 1)\n",
    "    plt.axis('off')\n",
    "    plt.imshow(image,                  # the image to be plotted\n",
    "               cmap=plt.cm.gray_r,     # color map\n",
    "               interpolation='nearest'\n",
    "              )\n",
    "    plt.title(f\"Training: {label}\")\n",
    "plt.show()\n"
   ]
  },
  {
   "cell_type": "code",
   "execution_count": null,
   "metadata": {},
   "outputs": [],
   "source": []
  }
 ],
 "metadata": {
  "kernelspec": {
   "display_name": "Python 3",
   "language": "python",
   "name": "python3"
  },
  "language_info": {
   "codemirror_mode": {
    "name": "ipython",
    "version": 3
   },
   "file_extension": ".py",
   "mimetype": "text/x-python",
   "name": "python",
   "nbconvert_exporter": "python",
   "pygments_lexer": "ipython3",
   "version": "3.7.3"
  }
 },
 "nbformat": 4,
 "nbformat_minor": 2
}
